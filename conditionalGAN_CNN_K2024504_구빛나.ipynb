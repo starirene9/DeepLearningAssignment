{
  "cells": [
    {
      "cell_type": "markdown",
      "metadata": {
        "id": "view-in-github",
        "colab_type": "text"
      },
      "source": [
        "<a href=\"https://colab.research.google.com/github/starirene9/DeepLearningAssignment/blob/main/conditionalGAN_CNN_K2024504_%EA%B5%AC%EB%B9%9B%EB%82%98.ipynb\" target=\"_parent\"><img src=\"https://colab.research.google.com/assets/colab-badge.svg\" alt=\"Open In Colab\"/></a>"
      ]
    },
    {
      "cell_type": "code",
      "execution_count": 43,
      "id": "c00ab6fe",
      "metadata": {
        "id": "c00ab6fe"
      },
      "outputs": [],
      "source": [
        "import random\n",
        "from tqdm import tqdm\n",
        "\n",
        "import torch\n",
        "import torch.nn as nn\n",
        "from torch.nn import functional as F\n",
        "from torch.utils.data.sampler import SubsetRandomSampler\n",
        "\n",
        "from torchsummary import summary\n",
        "\n",
        "import torchvision.transforms as T\n",
        "from torchvision.datasets import MNIST\n",
        "\n",
        "from sklearn.manifold import TSNE\n",
        "\n",
        "from matplotlib import pyplot as plt"
      ]
    },
    {
      "cell_type": "code",
      "execution_count": 44,
      "id": "085559d0",
      "metadata": {
        "id": "085559d0"
      },
      "outputs": [],
      "source": [
        "def make_fig(z, targets, epoch):\n",
        "\n",
        "    model = TSNE()\n",
        "    transformed = model.fit_transform(z)\n",
        "\n",
        "    plt.scatter(transformed[:, 0], transformed[:, 1], c=targets, alpha=.4, s=3**2)\n",
        "\n",
        "    plt.savefig(fname=f'{epoch}.png', format='png')"
      ]
    },
    {
      "cell_type": "code",
      "execution_count": 45,
      "id": "d108ef6a",
      "metadata": {
        "id": "d108ef6a"
      },
      "outputs": [],
      "source": [
        "LR = 0.0001\n",
        "EPOCH = 200\n",
        "BATCH_SIZE = 64\n",
        "\n",
        "LATENT_DIM = 128"
      ]
    },
    {
      "cell_type": "code",
      "execution_count": 46,
      "id": "72be5e21",
      "metadata": {
        "id": "72be5e21"
      },
      "outputs": [],
      "source": [
        "class SubsetSequentialSampler(torch.utils.data.Sampler):\n",
        "    def __init__(self, indices):\n",
        "        self.indices = indices\n",
        "\n",
        "    def __iter__(self):\n",
        "        return (self.indices[i] for i in range(len(self.indices)))\n",
        "\n",
        "    def __len__(self):\n",
        "        return len(self.indices)\n",
        "\n",
        "train = MNIST('./', train=True, download=True,\n",
        "              transform=T.Compose([T.ToTensor(),\n",
        "                                   T.Normalize((0.5,), (0.5,)),])\n",
        "             )\n",
        "test = MNIST('./', train=False, download=True, transform=T.ToTensor())\n",
        "\n",
        "train_loader = torch.utils.data.DataLoader(train, batch_size=BATCH_SIZE, num_workers=2, shuffle=True)\n",
        "test_loader = torch.utils.data.DataLoader(test, batch_size=BATCH_SIZE)"
      ]
    },
    {
      "cell_type": "code",
      "execution_count": 47,
      "id": "9682074e",
      "metadata": {
        "id": "9682074e"
      },
      "outputs": [],
      "source": [
        "class Residual(nn.Module):\n",
        "    def __init__(self, channel):\n",
        "        super(Residual, self).__init__()\n",
        "\n",
        "        self.conv1 = nn.Conv2d(channel, channel, kernel_size=3, stride=1, padding=1)\n",
        "        self.conv2 = nn.Conv2d(channel, channel, kernel_size=3, stride=1, padding=1)\n",
        "        self.bn1 = nn.BatchNorm2d(channel)\n",
        "        self.bn2 = nn.BatchNorm2d(channel)\n",
        "\n",
        "        self.leaky = nn.LeakyReLU(inplace=False)\n",
        "\n",
        "    def forward(self, x):\n",
        "        out = self.leaky(self.bn1(self.conv1(x)))\n",
        "        out = self.bn2(self.conv2(out))\n",
        "        out = out + x\n",
        "        return self.leaky(out)\n",
        "\n",
        "\n",
        "class Pooling(nn.Module):\n",
        "    def __init__(self, in_channel, out_channel):\n",
        "        super(Pooling, self).__init__()\n",
        "\n",
        "        self.conv1 = nn.Conv2d(in_channel, out_channel, kernel_size=3, stride=2, padding=1)\n",
        "        self.conv2 = nn.Conv2d(out_channel, out_channel, kernel_size=3, stride=1, padding=1)\n",
        "\n",
        "        self.bn1 = nn.BatchNorm2d(out_channel)\n",
        "        self.bn2 = nn.BatchNorm2d(out_channel)\n",
        "\n",
        "        self.leaky = nn.LeakyReLU(inplace=False)\n",
        "\n",
        "    def forward(self, x):\n",
        "        out_ = self.leaky(self.bn1(self.conv1(x)))\n",
        "        return out_"
      ]
    },
    {
      "cell_type": "code",
      "execution_count": 48,
      "id": "85f32b27",
      "metadata": {
        "id": "85f32b27"
      },
      "outputs": [],
      "source": [
        "class Discriminator(nn.Module):\n",
        "    def __init__(self):\n",
        "        super(Discriminator, self).__init__()\n",
        "\n",
        "        self.label_emb = nn.Embedding(10, 28*28)  # 🔹 레이블을 이미지 크기로 임베딩\n",
        "\n",
        "        self.block_1 = nn.Sequential(Residual(2), Pooling(2, 8))  # 14\n",
        "        self.block_2 = nn.Sequential(Residual(8), Pooling(8, 16))  # 7\n",
        "\n",
        "        self.fc = nn.Linear(16, 1)\n",
        "\n",
        "        self.GAP = nn.AdaptiveAvgPool2d(1)\n",
        "\n",
        "        self.leaky = nn.LeakyReLU(inplace=False)\n",
        "        self.sigmoid = nn.Sigmoid()\n",
        "\n",
        "    def forward(self, x, y):\n",
        "        y = self.label_emb(y).view(-1, 1, 28, 28)  # 🔹 임베딩 결과를 이미지처럼 reshape\n",
        "        x = torch.cat((x, y), dim=1)  # 🔹 이미지와 라벨을 채널 방향으로 합침\n",
        "\n",
        "        out = self.block_1(x)\n",
        "        out = self.block_2(out)\n",
        "\n",
        "        out = self.GAP(out)\n",
        "\n",
        "        out = out.view(out.size(0), -1)\n",
        "\n",
        "        out = self.fc(out)\n",
        "\n",
        "        return self.sigmoid(out)"
      ]
    },
    {
      "cell_type": "code",
      "execution_count": 49,
      "id": "a257cf94",
      "metadata": {
        "id": "a257cf94"
      },
      "outputs": [],
      "source": [
        "class Transpose(nn.Module):\n",
        "    def __init__(self, in_channel, out_channel):\n",
        "        super(Transpose, self).__init__()\n",
        "\n",
        "        self.conv_trans = nn.ConvTranspose2d(in_channels=in_channel,\n",
        "                                             out_channels=out_channel,\n",
        "                                             kernel_size=4, stride=2, padding=1) # 사이즈 2배 upscaling\n",
        "        self.conv1 = nn.Conv2d(out_channel, out_channel, kernel_size=3, stride=1, padding=1)\n",
        "\n",
        "        self.bn1 = nn.BatchNorm2d(out_channel)\n",
        "        self.bn2 = nn.BatchNorm2d(out_channel)\n",
        "\n",
        "        self.leaky = nn.LeakyReLU(inplace=False)\n",
        "\n",
        "    def forward(self, x):\n",
        "        out_ = self.leaky(self.bn1(self.conv_trans(x)))\n",
        "        out = self.bn2(self.conv1(out_))\n",
        "        out = out + out_\n",
        "        return out\n",
        "\n",
        "class Generator(nn.Module):\n",
        "    def __init__(self):\n",
        "        super(Generator, self).__init__()\n",
        "\n",
        "        self.label_emb = nn.Embedding(10, 10)\n",
        "\n",
        "        self.fc = nn.Linear(LATENT_DIM + 10, 7*7*16)\n",
        "\n",
        "        self.bn = nn.BatchNorm1d(7*7*16)\n",
        "\n",
        "        self.transpose_1 = Transpose(16, 8)\n",
        "        self.transpose_2 = Transpose(8, 1)\n",
        "\n",
        "        self.leaky = nn.LeakyReLU(inplace=False)\n",
        "        self.tanh = nn.Tanh()\n",
        "\n",
        "    def forward(self, x, y):\n",
        "        y = self.label_emb(y)  # 🔹 one-hot과 유사한 역할 : label을 학습 가능한 continuous vector로 표현 (더 유연함)\n",
        "        x = torch.cat((x, y), dim=1)  # 🔹 noise + label 결합\n",
        "        out = self.leaky(self.bn(self.fc(x)))\n",
        "\n",
        "        out = out.view(out.size(0), 16, 7, 7)\n",
        "\n",
        "        out = self.leaky(self.transpose_1(out))\n",
        "        out = self.transpose_2(out)\n",
        "\n",
        "        return self.tanh(out)"
      ]
    },
    {
      "cell_type": "code",
      "execution_count": 50,
      "id": "2cc1356a",
      "metadata": {
        "id": "2cc1356a"
      },
      "outputs": [],
      "source": [
        "# ✅ 디바이스 설정\n",
        "device = torch.device(\"cuda\" if torch.cuda.is_available() else \"cpu\")\n",
        "\n",
        "disc = Discriminator().to(device)\n",
        "gen = Generator().to(device)\n",
        "\n",
        "g_optim = torch.optim.Adam(gen.parameters(), lr=2e-4)\n",
        "d_optim = torch.optim.Adam(disc.parameters(), lr=5e-5)\n",
        "\n",
        "criterion = nn.BCELoss().cuda()"
      ]
    },
    {
      "cell_type": "code",
      "execution_count": 51,
      "id": "c9174e9c",
      "metadata": {
        "id": "c9174e9c"
      },
      "outputs": [],
      "source": [
        "def train_discriminator(criterion, optimizer, real_data, real_labels, fake_data, fake_labels):\n",
        "    n = real_data.size(0)\n",
        "\n",
        "    optimizer.zero_grad()\n",
        "\n",
        "    prediction_real = disc(real_data, real_labels)\n",
        "    loss_real = criterion(prediction_real, torch.ones(n, 1).to(device))\n",
        "    loss_real.backward()\n",
        "\n",
        "    prediction_fake = disc(fake_data.detach(), fake_labels)\n",
        "    loss_fake = criterion(prediction_fake, torch.zeros(n, 1).to(device))\n",
        "    loss_fake.backward()\n",
        "\n",
        "    optimizer.step()\n",
        "\n",
        "    return loss_real + loss_fake\n",
        "\n",
        "def train_generator(criterion, optimizer, fake_data, labels):\n",
        "    n = fake_data.size(0)\n",
        "    optimizer.zero_grad()\n",
        "\n",
        "    prediction = disc(fake_data, labels)\n",
        "    loss = criterion(prediction, torch.ones(n, 1).to(device))\n",
        "\n",
        "    loss.backward()\n",
        "    optimizer.step()\n",
        "\n",
        "    return loss\n"
      ]
    },
    {
      "cell_type": "code",
      "execution_count": null,
      "id": "5b5362b6",
      "metadata": {
        "colab": {
          "base_uri": "https://localhost:8080/",
          "height": 170
        },
        "id": "5b5362b6",
        "outputId": "fabd70b8-2a2c-419c-8c39-57e0fbc1208d"
      },
      "outputs": [
        {
          "output_type": "stream",
          "name": "stderr",
          "text": [
            "                                                 "
          ]
        },
        {
          "output_type": "stream",
          "name": "stdout",
          "text": [
            "Epoch 0 | D Loss: 1.3347 | G Loss: 0.7239\n"
          ]
        },
        {
          "output_type": "stream",
          "name": "stderr",
          "text": [
            "\r"
          ]
        },
        {
          "output_type": "display_data",
          "data": {
            "text/plain": [
              "<PIL.Image.Image image mode=L size=28x28>"
            ],
            "image/png": "[encoded data removed]",
            "image/jpeg": "[encoded data removed]"
          },
          "metadata": {}
        },
        {
          "output_type": "stream",
          "name": "stderr",
          "text": [
            "                                                 "
          ]
        },
        {
          "output_type": "stream",
          "name": "stdout",
          "text": [
            "Epoch 10 | D Loss: 1.3609 | G Loss: 0.7475\n"
          ]
        },
        {
          "output_type": "stream",
          "name": "stderr",
          "text": [
            "\r"
          ]
        },
        {
          "output_type": "display_data",
          "data": {
            "text/plain": [
              "<PIL.Image.Image image mode=L size=28x28>"
            ],
            "image/png": "[encoded data removed]",
            "image/jpeg": "[encoded data removed]"
          },
          "metadata": {}
        },
        {
          "output_type": "stream",
          "name": "stderr",
          "text": [
            "                                                 "
          ]
        },
        {
          "output_type": "stream",
          "name": "stdout",
          "text": [
            "Epoch 20 | D Loss: 0.6647 | G Loss: 1.6886\n"
          ]
        },
        {
          "output_type": "stream",
          "name": "stderr",
          "text": [
            "\r"
          ]
        },
        {
          "output_type": "display_data",
          "data": {
            "text/plain": [
              "<PIL.Image.Image image mode=L size=28x28>"
            ],
            "image/png": "[encoded data removed]",
            "image/jpeg": "[encoded data removed]"
          },
          "metadata": {}
        },
        {
          "output_type": "stream",
          "name": "stderr",
          "text": [
            " 18%|█▊        | 165/938 [00:10<00:50, 15.25it/s]"
          ]
        }
      ],
      "source": [
        "for epoch in range(EPOCH):\n",
        "    gen.train()\n",
        "    disc.train()\n",
        "    for img, target in tqdm(train_loader, leave=False, total=len(train_loader)):\n",
        "        img = img.to(device)\n",
        "        target = target.to(device)\n",
        "\n",
        "        n = len(img)\n",
        "\n",
        "        noise = torch.randn(n, LATENT_DIM).to(device)\n",
        "        fake_data = gen(noise, target)\n",
        "        disc_loss = train_discriminator(criterion, d_optim, img, target, fake_data, target)\n",
        "\n",
        "        noise = torch.randn(n, LATENT_DIM).to(device)\n",
        "        fake_data = gen(noise, target)\n",
        "        gen_loss = train_generator(criterion, g_optim, fake_data, target)\n",
        "\n",
        "    if not epoch % 10:\n",
        "        print(f\"Epoch {epoch} | D Loss: {disc_loss:.4f} | G Loss: {gen_loss:.4f}\")\n",
        "\n",
        "        gen.eval()  # 🔸 평가 모드로 변경 (BatchNorm 문제 방지)\n",
        "        with torch.no_grad():  # 🔸 그래디언트 비활성화\n",
        "            z = torch.randn(1, LATENT_DIM).to(device)\n",
        "            label = torch.tensor([7]).to(device)\n",
        "            generated_img = gen(z, label)[0]\n",
        "            generated_img = (generated_img + 1) / 2  # 🔸 Tanh 정규화 해제: [-1, 1] → [0, 1]\n",
        "            display(T.functional.to_pil_image(generated_img))"
      ]
    },
    {
      "cell_type": "markdown",
      "source": [
        "상태\t해석\n",
        "D Loss ≫ G Loss\tGenerator가 못 속임 → Generator 더 훈련 필요\n",
        "G Loss ≫ D Loss\tDiscriminator가 너무 잘 구분함 → Generator 손해\n",
        "D Loss ≈ G Loss (모두 적당히 높음)\t서로 경쟁 중 → 가장 이상적인 상태!"
      ],
      "metadata": {
        "id": "4Au2qRFhZTvz"
      },
      "id": "4Au2qRFhZTvz"
    },
    {
      "cell_type": "code",
      "execution_count": null,
      "id": "41ed28d8",
      "metadata": {
        "id": "41ed28d8"
      },
      "outputs": [],
      "source": [
        "from IPython.display import display\n",
        "display(T.functional.to_pil_image((gen(torch.randn(1, LATENT_DIM).to(device), torch.tensor([7]).to(device))[0] + 1) / 2))"
      ]
    }
  ],
  "metadata": {
    "accelerator": "GPU",
    "colab": {
      "gpuType": "T4",
      "provenance": [],
      "machine_shape": "hm",
      "include_colab_link": true
    },
    "kernelspec": {
      "display_name": "Python 3",
      "name": "python3"
    },
    "language_info": {
      "name": "python"
    }
  },
  "nbformat": 4,
  "nbformat_minor": 5
}
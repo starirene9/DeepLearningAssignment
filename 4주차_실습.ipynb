{
  "cells": [
    {
      "cell_type": "markdown",
      "metadata": {
        "id": "view-in-github",
        "colab_type": "text"
      },
      "source": [
        "<a href=\"https://colab.research.google.com/github/starirene9/DeepLearningAssignment/blob/main/4%E1%84%8C%E1%85%AE%E1%84%8E%E1%85%A1_%E1%84%89%E1%85%B5%E1%86%AF%E1%84%89%E1%85%B3%E1%86%B8.ipynb\" target=\"_parent\"><img src=\"https://colab.research.google.com/assets/colab-badge.svg\" alt=\"Open In Colab\"/></a>"
      ]
    },
    {
      "cell_type": "code",
      "execution_count": null,
      "metadata": {
        "id": "JQn0E9L4l9Rs"
      },
      "outputs": [],
      "source": [
        "import torch\n",
        "\n",
        "import torchvision.transforms as T\n",
        "from torchvision.datasets import MNIST"
      ]
    },
    {
      "cell_type": "code",
      "execution_count": null,
      "metadata": {
        "id": "kXaaIOU0nXum"
      },
      "outputs": [],
      "source": [
        "LR = 0.1\n",
        "EPOCH = 10 # 전체 데이터셋을 한 번 학습하는 횟수\n",
        "BATCH_SIZE = 64 # 한 번에 학습하는 데이터 샘플 개수\n",
        "# 배치 사이즈 늘릴 것~! GPU 최대한 늘이기 위해서\n",
        "# 배치 사이즈를 무조건 늘리면 학습 시간이 오래 걸림"
      ]
    },
    {
      "cell_type": "code",
      "execution_count": null,
      "metadata": {
        "id": "i0Wi9J3fmr9A",
        "colab": {
          "base_uri": "https://localhost:8080/"
        },
        "outputId": "62cf7295-e610-4a74-b111-6765e2e05e0e"
      },
      "outputs": [
        {
          "output_type": "stream",
          "name": "stderr",
          "text": [
            "100%|██████████| 9.91M/9.91M [00:00<00:00, 16.1MB/s]\n",
            "100%|██████████| 28.9k/28.9k [00:00<00:00, 478kB/s]\n",
            "100%|██████████| 1.65M/1.65M [00:00<00:00, 4.44MB/s]\n",
            "100%|██████████| 4.54k/4.54k [00:00<00:00, 2.52MB/s]\n"
          ]
        }
      ],
      "source": [
        "train = MNIST('./', train=True, download=True, transform=T.ToTensor()) # train=True 데이터로 모델을 학습\n",
        "test = MNIST('./', train=False, download=False, transform=T.ToTensor()) # train=False 데이터로 모델을 평가"
      ]
    },
    {
      "cell_type": "code",
      "execution_count": null,
      "metadata": {
        "id": "vepxnIQtmzrZ"
      },
      "outputs": [],
      "source": [
        "# 데이터를 실제 학습에 사용할 수 있는 배치 사이즈 만큼 읽어서 제공 : 데이터를 미리 읽어 놓고 바로바로 보내줌\n",
        "\n",
        "train_loader = torch.utils.data.DataLoader(train, batch_size=BATCH_SIZE, shuffle=True) # shuffle : 데이터를 섞음\n",
        "test_loader = torch.utils.data.DataLoader(test, batch_size=BATCH_SIZE, shuffle=True)"
      ]
    },
    {
      "cell_type": "code",
      "execution_count": null,
      "metadata": {
        "colab": {
          "base_uri": "https://localhost:8080/"
        },
        "id": "2YEBO_sfnwr-",
        "outputId": "8a1d84f7-3e32-4dc6-ef49-c0d30413848c"
      },
      "outputs": [
        {
          "output_type": "stream",
          "name": "stdout",
          "text": [
            "torch.Size([64, 1, 28, 28])\n",
            "torch.Size([64])\n"
          ]
        }
      ],
      "source": [
        "#첫 번째 배치만 가져오는 것은 훈련을 시작하기 전에 데이터와 모델이 올바르게 설정되었는지 빠르게 확인하기 위해서\n",
        "img, target = next(iter(train_loader)) # 첫번째 배치 반환\n",
        "print(img.size())\n",
        "print(target.size())  # 타겟(정답) 텐서의 크기 출력"
      ]
    },
    {
      "cell_type": "code",
      "execution_count": null,
      "metadata": {
        "id": "rvwkizBWoMZm"
      },
      "outputs": [],
      "source": [
        "model = torch.nn.Sequential(\n",
        "    ### Make a model ###\n",
        "    torch.nn.Linear(784, 512),\n",
        "    torch.nn.ReLU(),   # 활성화 함수 (비선형성 추가)\n",
        "    torch.nn.Linear(512, 128),\n",
        "    torch.nn.ReLU(),\n",
        "    torch.nn.Linear(128, 10),\n",
        "    # 마지막에 softmax가 들어가므로 또 한번 넣지 않아도 됨\n",
        ").cuda()\n",
        "\n",
        "# 손실 함수 정의 (CrossEntropyLoss는 softmax를 내부적으로 포함)\n",
        "loss_function = torch.nn.CrossEntropyLoss().cuda()\n",
        "\n",
        "\"\"\"\n",
        "🔹 CrossEntropyLoss의 특징\n",
        "\t1.\tSoftmax가 포함됨 → logits(출력값)만 입력하면 됨.\n",
        "\t2.\t다중 클래스 분류에 적합 → target은 정답 클래스의 인덱스(정수) 형태로 제공해야 함.\n",
        "\t3.\t확률이 정답에 가까울수록 손실이 작아짐\n",
        "\t4.\t예측이 틀릴수록 손실이 커짐\n",
        "\"\"\"\n",
        "\n",
        "# 옵티마이저 설정 (SGD: 확률적 경사 하강법, 학습률은 LR)\n",
        "optimizer = torch.optim.SGD(model.parameters(), lr=LR)\n",
        "# 모델의 모든 가중치와 편향(bias)을 업데이트하기 위해 model.parameters()를 옵티마이저에 전달\n",
        "# lr (learning rate) 는 가중치를 업데이트하는 속도를 결정하는 값"
      ]
    },
    {
      "cell_type": "code",
      "execution_count": null,
      "metadata": {
        "colab": {
          "base_uri": "https://localhost:8080/"
        },
        "id": "094zknmQobCq",
        "outputId": "3762a23f-861c-4a57-a066-3a92034f81ca"
      },
      "outputs": [
        {
          "output_type": "stream",
          "name": "stdout",
          "text": [
            "1 epoch: 0.37449732422828674\n",
            "6 epoch: 0.04162312299013138\n"
          ]
        }
      ],
      "source": [
        "model.train()\n",
        "\n",
        "for epoch in range(EPOCH): # 전체 데이터를 몇번 볼것인가\n",
        "    for img, target in train_loader:\n",
        "        optimizer.zero_grad()  # 기존의 그래디언트 초기화 (중요)\n",
        "        img = img.flatten(1).cuda() # 2D 이미지를 1D 벡터(784 차원)로 변환 후 GPU로 이동\n",
        "        #Fully Connected Layer (Linear Layer) 를 사용할 때는 1D 벡터 형태로 변환\n",
        "        target = target.cuda()\n",
        "\n",
        "        # 모델을 통해 예측값(logit) 계산\n",
        "        logit = model(img)\n",
        "        loss = loss_function(logit, target)\n",
        "\n",
        "        loss.backward() # 역전파(Backpropagation)를 수행하여 기울기 계산\n",
        "        optimizer.step() # 옵티마이저가 가중치를 업데이트\n",
        "\n",
        "        \"\"\"\n",
        "        ✔ loss.backward()는 손실을 기반으로 가중치의 기울기를 계산하는 과정\n",
        "        ✔ 기울기가 없으면 가중치를 어떻게 업데이트해야 할지 알 수 없기 때문에 학습 불가능\n",
        "        ✔ 역전파 후 optimizer.step()을 호출하면 기울기를 사용하여 가중치를 업데이트\n",
        "        \"\"\"\n",
        "\n",
        "    if epoch % 5 == 0:  # 5 에포크마다 손실 값 출력\n",
        "        print(f'{epoch + 1} epoch: {loss.item()}')"
      ]
    },
    {
      "cell_type": "code",
      "execution_count": null,
      "metadata": {
        "colab": {
          "base_uri": "https://localhost:8080/"
        },
        "id": "THU16aCbpmWs",
        "outputId": "fd4a0ff0-8771-4f2c-c7e5-24ff0e710936"
      },
      "outputs": [
        {
          "output_type": "stream",
          "name": "stdout",
          "text": [
            "97.91\n"
          ]
        }
      ],
      "source": [
        "# 학습된 모델을 사용하여 테스트 데이터의 정확도를 평가하는 과정\n",
        "\n",
        "\"\"\"\n",
        "드롭아웃(Dropout) 은 신경망 학습 시 일부 뉴런을 랜덤하게 비활성화(0으로 만듦)하여 과적합(Overfitting)을 방지하는 기법입니다.\n",
        "즉, 학습할 때마다 일부 뉴런을 꺼서 모델이 특정 패턴에 과도하게 의존하지 않도록 유도하는 역할을 합니다.\n",
        "\"\"\"\n",
        "model.eval() # 신경망에서 드롭아웃(Dropout)과 배치 정규화(Batch Normalization) 같은 레이어를 비활성화\n",
        "\n",
        "total = 0  # 전체 테스트 데이터 개수를 저장할 변수 (모든 샘플 개수)\n",
        "correct = 0  # 모델이 정답을 맞힌 개수를 저장할 변수\n",
        "\n",
        "\n",
        "# 평가 모드에서는 자동 미분 계산을 하지 않도록 설정 (메모리 절약)\n",
        "# 테스트 과정에서는 기울기(Gradient) 계산이 필요 없음\n",
        "with torch.no_grad():\n",
        "    for imgs, targets in test_loader:\n",
        "        imgs = imgs.flatten(1).cuda()  # 입력 데이터 변환 후 GPU 이동\n",
        "        targets = targets.cuda()\n",
        "\n",
        "        logits = model(imgs) #변환된 입력 데이터를 모델에 넣어 출력(logits) 계산\n",
        "        _, preds = torch.max(logits.data, 1)  # 가장 높은 확률을 가진 클래스 인덱스 반환, 1은 열 방향\n",
        "        \"\"\"\n",
        "        •\tlogits에서 가장 큰 값의 인덱스를 반환\n",
        "\t      •\t1은 두 번째 차원(클래스 차원)에서 최대값을 찾는다는 의미\n",
        "\n",
        "        logits = torch.tensor([[2.5, 1.2, 0.3],  # 첫 번째 샘플\n",
        "                       [0.1, 3.6, 1.8],  # 두 번째 샘플\n",
        "                       [1.2, 0.7, 4.5]]) # 세 번째 샘플\n",
        "\n",
        "        values, indices = torch.max(logits, 1)  # 각 행(샘플)에서 최대값 찾기\n",
        "\n",
        "        print(\"최댓값:\", values)\n",
        "        print(\"최댓값의 인덱스:\", indices)\n",
        "\n",
        "        최댓값: tensor([2.5, 3.6, 4.5])\n",
        "        최댓값의 인덱스: tensor([0, 1, 2])\n",
        "\n",
        "        •\t첫 번째 반환값(최댓값)은 _에 저장 → 사용하지 않겠다는 의미\n",
        "        •\t두 번째 반환값(최댓값의 인덱스)은 preds에 저장 → 예측 클래스 번호\n",
        "        \"\"\"\n",
        "\n",
        "        total += targets.size(0) # 총 샘플 개수 업데이트 : size(0)은 첫 번째 차원(배치 크기)을 가져옴\n",
        "        correct += (preds == targets).sum().item()  #  최종적으로 correct에는 모든 테스트 데이터에서 맞춘 개수가 저장됨\n",
        "\n",
        "        \"\"\"\n",
        "\n",
        "          # 가정: 테스트 데이터에서 4개의 샘플(batch)\n",
        "          preds   = torch.tensor([0, 2, 1, 3])  # 모델 예측값\n",
        "          targets = torch.tensor([0, 1, 1, 3])  # 실제 정답\n",
        "\n",
        "          correct = 0  # 맞춘 개수 초기화\n",
        "          correct += (preds == targets).sum().item()\n",
        "\n",
        "          print(f'정확히 맞춘 개수: {correct}')\n",
        "        \"\"\"\n",
        "\n",
        "# 정확도(%) 출력\n",
        "print(100 * correct / total)"
      ]
    }
  ],
  "metadata": {
    "accelerator": "GPU",
    "colab": {
      "provenance": [],
      "gpuType": "T4",
      "include_colab_link": true
    },
    "kernelspec": {
      "display_name": "Python 3",
      "name": "python3"
    },
    "language_info": {
      "codemirror_mode": {
        "name": "ipython",
        "version": 3
      },
      "file_extension": ".py",
      "mimetype": "text/x-python",
      "name": "python",
      "nbconvert_exporter": "python",
      "pygments_lexer": "ipython3",
      "version": "3.10.12"
    }
  },
  "nbformat": 4,
  "nbformat_minor": 0
}
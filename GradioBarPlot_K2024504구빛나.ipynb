{
  "nbformat": 4,
  "nbformat_minor": 0,
  "metadata": {
    "colab": {
      "provenance": [],
      "authorship_tag": "ABX9TyMGiayr+xnX0KBUXPGBYpTL",
      "include_colab_link": true
    },
    "kernelspec": {
      "name": "python3",
      "display_name": "Python 3"
    },
    "language_info": {
      "name": "python"
    }
  },
  "cells": [
    {
      "cell_type": "markdown",
      "metadata": {
        "id": "view-in-github",
        "colab_type": "text"
      },
      "source": [
        "<a href=\"https://colab.research.google.com/github/starirene9/DeepLearningAssignment/blob/main/GradioBarPlot_K2024504%EA%B5%AC%EB%B9%9B%EB%82%98.ipynb\" target=\"_parent\"><img src=\"https://colab.research.google.com/assets/colab-badge.svg\" alt=\"Open In Colab\"/></a>"
      ]
    },
    {
      "cell_type": "code",
      "source": [
        "!pip install gradio"
      ],
      "metadata": {
        "colab": {
          "base_uri": "https://localhost:8080/"
        },
        "id": "MDHxUF9kQFnz",
        "outputId": "8f7058b7-65db-476e-87c7-c2a06f668296"
      },
      "execution_count": null,
      "outputs": [
        {
          "output_type": "stream",
          "name": "stdout",
          "text": [
            "Requirement already satisfied: gradio in /usr/local/lib/python3.11/dist-packages (5.23.0)\n",
            "Requirement already satisfied: aiofiles<24.0,>=22.0 in /usr/local/lib/python3.11/dist-packages (from gradio) (23.2.1)\n",
            "Requirement already satisfied: anyio<5.0,>=3.0 in /usr/local/lib/python3.11/dist-packages (from gradio) (4.9.0)\n",
            "Requirement already satisfied: fastapi<1.0,>=0.115.2 in /usr/local/lib/python3.11/dist-packages (from gradio) (0.115.12)\n",
            "Requirement already satisfied: ffmpy in /usr/local/lib/python3.11/dist-packages (from gradio) (0.5.0)\n",
            "Requirement already satisfied: gradio-client==1.8.0 in /usr/local/lib/python3.11/dist-packages (from gradio) (1.8.0)\n",
            "Requirement already satisfied: groovy~=0.1 in /usr/local/lib/python3.11/dist-packages (from gradio) (0.1.2)\n",
            "Requirement already satisfied: httpx>=0.24.1 in /usr/local/lib/python3.11/dist-packages (from gradio) (0.28.1)\n",
            "Requirement already satisfied: huggingface-hub>=0.28.1 in /usr/local/lib/python3.11/dist-packages (from gradio) (0.29.3)\n",
            "Requirement already satisfied: jinja2<4.0 in /usr/local/lib/python3.11/dist-packages (from gradio) (3.1.6)\n",
            "Requirement already satisfied: markupsafe<4.0,>=2.0 in /usr/local/lib/python3.11/dist-packages (from gradio) (3.0.2)\n",
            "Requirement already satisfied: numpy<3.0,>=1.0 in /usr/local/lib/python3.11/dist-packages (from gradio) (2.0.2)\n",
            "Requirement already satisfied: orjson~=3.0 in /usr/local/lib/python3.11/dist-packages (from gradio) (3.10.15)\n",
            "Requirement already satisfied: packaging in /usr/local/lib/python3.11/dist-packages (from gradio) (24.2)\n",
            "Requirement already satisfied: pandas<3.0,>=1.0 in /usr/local/lib/python3.11/dist-packages (from gradio) (2.2.2)\n",
            "Requirement already satisfied: pillow<12.0,>=8.0 in /usr/local/lib/python3.11/dist-packages (from gradio) (11.1.0)\n",
            "Requirement already satisfied: pydantic>=2.0 in /usr/local/lib/python3.11/dist-packages (from gradio) (2.10.6)\n",
            "Requirement already satisfied: pydub in /usr/local/lib/python3.11/dist-packages (from gradio) (0.25.1)\n",
            "Requirement already satisfied: python-multipart>=0.0.18 in /usr/local/lib/python3.11/dist-packages (from gradio) (0.0.20)\n",
            "Requirement already satisfied: pyyaml<7.0,>=5.0 in /usr/local/lib/python3.11/dist-packages (from gradio) (6.0.2)\n",
            "Requirement already satisfied: ruff>=0.9.3 in /usr/local/lib/python3.11/dist-packages (from gradio) (0.11.2)\n",
            "Requirement already satisfied: safehttpx<0.2.0,>=0.1.6 in /usr/local/lib/python3.11/dist-packages (from gradio) (0.1.6)\n",
            "Requirement already satisfied: semantic-version~=2.0 in /usr/local/lib/python3.11/dist-packages (from gradio) (2.10.0)\n",
            "Requirement already satisfied: starlette<1.0,>=0.40.0 in /usr/local/lib/python3.11/dist-packages (from gradio) (0.46.1)\n",
            "Requirement already satisfied: tomlkit<0.14.0,>=0.12.0 in /usr/local/lib/python3.11/dist-packages (from gradio) (0.13.2)\n",
            "Requirement already satisfied: typer<1.0,>=0.12 in /usr/local/lib/python3.11/dist-packages (from gradio) (0.15.2)\n",
            "Requirement already satisfied: typing-extensions~=4.0 in /usr/local/lib/python3.11/dist-packages (from gradio) (4.12.2)\n",
            "Requirement already satisfied: uvicorn>=0.14.0 in /usr/local/lib/python3.11/dist-packages (from gradio) (0.34.0)\n",
            "Requirement already satisfied: fsspec in /usr/local/lib/python3.11/dist-packages (from gradio-client==1.8.0->gradio) (2025.3.0)\n",
            "Requirement already satisfied: websockets<16.0,>=10.0 in /usr/local/lib/python3.11/dist-packages (from gradio-client==1.8.0->gradio) (15.0.1)\n",
            "Requirement already satisfied: idna>=2.8 in /usr/local/lib/python3.11/dist-packages (from anyio<5.0,>=3.0->gradio) (3.10)\n",
            "Requirement already satisfied: sniffio>=1.1 in /usr/local/lib/python3.11/dist-packages (from anyio<5.0,>=3.0->gradio) (1.3.1)\n",
            "Requirement already satisfied: certifi in /usr/local/lib/python3.11/dist-packages (from httpx>=0.24.1->gradio) (2025.1.31)\n",
            "Requirement already satisfied: httpcore==1.* in /usr/local/lib/python3.11/dist-packages (from httpx>=0.24.1->gradio) (1.0.7)\n",
            "Requirement already satisfied: h11<0.15,>=0.13 in /usr/local/lib/python3.11/dist-packages (from httpcore==1.*->httpx>=0.24.1->gradio) (0.14.0)\n",
            "Requirement already satisfied: filelock in /usr/local/lib/python3.11/dist-packages (from huggingface-hub>=0.28.1->gradio) (3.18.0)\n",
            "Requirement already satisfied: requests in /usr/local/lib/python3.11/dist-packages (from huggingface-hub>=0.28.1->gradio) (2.32.3)\n",
            "Requirement already satisfied: tqdm>=4.42.1 in /usr/local/lib/python3.11/dist-packages (from huggingface-hub>=0.28.1->gradio) (4.67.1)\n",
            "Requirement already satisfied: python-dateutil>=2.8.2 in /usr/local/lib/python3.11/dist-packages (from pandas<3.0,>=1.0->gradio) (2.8.2)\n",
            "Requirement already satisfied: pytz>=2020.1 in /usr/local/lib/python3.11/dist-packages (from pandas<3.0,>=1.0->gradio) (2025.1)\n",
            "Requirement already satisfied: tzdata>=2022.7 in /usr/local/lib/python3.11/dist-packages (from pandas<3.0,>=1.0->gradio) (2025.1)\n",
            "Requirement already satisfied: annotated-types>=0.6.0 in /usr/local/lib/python3.11/dist-packages (from pydantic>=2.0->gradio) (0.7.0)\n",
            "Requirement already satisfied: pydantic-core==2.27.2 in /usr/local/lib/python3.11/dist-packages (from pydantic>=2.0->gradio) (2.27.2)\n",
            "Requirement already satisfied: click>=8.0.0 in /usr/local/lib/python3.11/dist-packages (from typer<1.0,>=0.12->gradio) (8.1.8)\n",
            "Requirement already satisfied: shellingham>=1.3.0 in /usr/local/lib/python3.11/dist-packages (from typer<1.0,>=0.12->gradio) (1.5.4)\n",
            "Requirement already satisfied: rich>=10.11.0 in /usr/local/lib/python3.11/dist-packages (from typer<1.0,>=0.12->gradio) (13.9.4)\n",
            "Requirement already satisfied: six>=1.5 in /usr/local/lib/python3.11/dist-packages (from python-dateutil>=2.8.2->pandas<3.0,>=1.0->gradio) (1.17.0)\n",
            "Requirement already satisfied: markdown-it-py>=2.2.0 in /usr/local/lib/python3.11/dist-packages (from rich>=10.11.0->typer<1.0,>=0.12->gradio) (3.0.0)\n",
            "Requirement already satisfied: pygments<3.0.0,>=2.13.0 in /usr/local/lib/python3.11/dist-packages (from rich>=10.11.0->typer<1.0,>=0.12->gradio) (2.18.0)\n",
            "Requirement already satisfied: charset-normalizer<4,>=2 in /usr/local/lib/python3.11/dist-packages (from requests->huggingface-hub>=0.28.1->gradio) (3.4.1)\n",
            "Requirement already satisfied: urllib3<3,>=1.21.1 in /usr/local/lib/python3.11/dist-packages (from requests->huggingface-hub>=0.28.1->gradio) (2.3.0)\n",
            "Requirement already satisfied: mdurl~=0.1 in /usr/local/lib/python3.11/dist-packages (from markdown-it-py>=2.2.0->rich>=10.11.0->typer<1.0,>=0.12->gradio) (0.1.2)\n"
          ]
        }
      ]
    },
    {
      "cell_type": "code",
      "source": [
        "import gradio as gr\n",
        "import pandas as pd # 테이블 형태의 데이터를 다루는데 사용하는 라이브러리\n",
        "from random import randint # 정수형 랜덤값을 생성하는 함수. random 모듈에서 가져옴\n",
        "\n",
        "temp_sensor_data = pd.DataFrame({\n",
        "     \"time\" : pd.date_range(\"2021-01-01\", end=\"2021-01-05\", periods=200),\n",
        "     \"temperature\": [randint(50 + 10 * (i % 2), 65 + 15 * (i % 2)) for i in range(200)], # 200개의 데이터 생성\n",
        " })\n",
        "\n",
        "def plot_temperature(dataFrame): # 사용되지 않은 함수\n",
        "  return dataFrame\n",
        "\n",
        "with gr.Blocks() as demo:\n",
        "    gr.Markdown(\"## Temperature Data Over Time\") # 제목\n",
        "    plot = gr.BarPlot(temp_sensor_data, x=\"time\", y=\"temperature\", title=\"Temperature Over Time\") # 막대그래프는 gradio 최신 버전에서만 사용 가능\n",
        "\n",
        "demo.launch()\n"
      ],
      "metadata": {
        "colab": {
          "base_uri": "https://localhost:8080/",
          "height": 645
        },
        "id": "MU82SUAfQOJr",
        "outputId": "f6e8954f-a31d-4f29-8153-c415244c9937"
      },
      "execution_count": null,
      "outputs": [
        {
          "output_type": "stream",
          "name": "stdout",
          "text": [
            "Running Gradio in a Colab notebook requires sharing enabled. Automatically setting `share=True` (you can turn this off by setting `share=False` in `launch()` explicitly).\n",
            "\n",
            "Colab notebook detected. To show errors in colab notebook, set debug=True in launch()\n",
            "* Running on public URL: https://58a0fa89e77f6864f7.gradio.live\n",
            "\n",
            "This share link expires in 72 hours. For free permanent hosting and GPU upgrades, run `gradio deploy` from the terminal in the working directory to deploy to Hugging Face Spaces (https://huggingface.co/spaces)\n"
          ]
        },
        {
          "output_type": "display_data",
          "data": {
            "text/plain": [
              "<IPython.core.display.HTML object>"
            ],
            "text/html": [
              "<div><iframe src=\"https://58a0fa89e77f6864f7.gradio.live\" width=\"100%\" height=\"500\" allow=\"autoplay; camera; microphone; clipboard-read; clipboard-write;\" frameborder=\"0\" allowfullscreen></iframe></div>"
            ]
          },
          "metadata": {}
        },
        {
          "output_type": "execute_result",
          "data": {
            "text/plain": []
          },
          "metadata": {},
          "execution_count": 13
        }
      ]
    },
    {
      "cell_type": "code",
      "source": [
        "import gradio as gr\n",
        "import pandas as pd\n",
        "from random import random # 하나만 쓰면 module import, 이렇게 쓰면 함수만 import\n",
        "\n",
        "food_rating_data = pd.DataFrame({\n",
        "    \"cuisine\": [[\"Italian\", \"Mexican\", \"Chinese\"][i%3] for i in range(100)],\n",
        "    \"rating\" : [random() * 4 + 0.5 * (i%3) for i in range(100)],\n",
        "\n",
        "})\n",
        "\"\"\"\n",
        "for i in range(100) : 0부터 99까지 100번 반복되는 숫자\n",
        "[i%3]는 i를 3으로 나눈 나머지를 구하며 0,1,2 반복하여 리스트의 특정 인덱스를 선택 => “Italian”, “Mexican”, “Chinese” 순서로 100개를 반복 생성\n",
        "random()은 0 이상 1미만의 무작위 실수를 생성\n",
        "\"\"\"\n",
        "def plot_ratings(dataFrame):\n",
        "    return dataFrame\n",
        "\n",
        "with gr.Blocks() as demo:\n",
        "    gr.Markdown(\"## Food Ratings by Cuisine\")\n",
        "    plot= gr.BarPlot(food_rating_data, x=\"cuisine\", y=\"rating\", title=\"Food Ratings\")\n",
        "\n",
        "demo.launch()"
      ],
      "metadata": {
        "colab": {
          "base_uri": "https://localhost:8080/",
          "height": 645
        },
        "id": "1rX5gP1OUP0r",
        "outputId": "301be502-1b79-4ecc-9c86-bad8301ee6d3"
      },
      "execution_count": null,
      "outputs": [
        {
          "output_type": "stream",
          "name": "stdout",
          "text": [
            "Running Gradio in a Colab notebook requires sharing enabled. Automatically setting `share=True` (you can turn this off by setting `share=False` in `launch()` explicitly).\n",
            "\n",
            "Colab notebook detected. To show errors in colab notebook, set debug=True in launch()\n",
            "* Running on public URL: https://8cb389893a27094887.gradio.live\n",
            "\n",
            "This share link expires in 72 hours. For free permanent hosting and GPU upgrades, run `gradio deploy` from the terminal in the working directory to deploy to Hugging Face Spaces (https://huggingface.co/spaces)\n"
          ]
        },
        {
          "output_type": "display_data",
          "data": {
            "text/plain": [
              "<IPython.core.display.HTML object>"
            ],
            "text/html": [
              "<div><iframe src=\"https://8cb389893a27094887.gradio.live\" width=\"100%\" height=\"500\" allow=\"autoplay; camera; microphone; clipboard-read; clipboard-write;\" frameborder=\"0\" allowfullscreen></iframe></div>"
            ]
          },
          "metadata": {}
        },
        {
          "output_type": "execute_result",
          "data": {
            "text/plain": []
          },
          "metadata": {},
          "execution_count": 19
        }
      ]
    },
    {
      "cell_type": "code",
      "source": [
        "import pandas as pd\n",
        "import gradio as gr\n",
        "from random import randint\n",
        "\n",
        "temp_sensor_data = pd.DataFrame({\n",
        "    \"time\": pd.date_range(\"2021-01-01\", end=\"2021-01-05\", periods=200),\n",
        "    \"temperature\": [randint(50 + 10 * (i % 2), 65 + 15 * (i % 2)) for i in range(200)], # 데이터 200개 생성\n",
        "    \"locations\": [\"indoor\", \"outdoor\"] * 100, # 길이가 200인 리스트가 됨\n",
        "})\n",
        "\n",
        "def plot_temperature(dataframe):\n",
        "  return dataframe\n",
        "\n",
        "with gr.Blocks() as demo:\n",
        "    gr.Markdown(\"## Temperature Data Over Time by Location\")\n",
        "    plot = gr.BarPlot(temp_sensor_data, x=\"time\", y=\"temperature\", color=\"locations\", title=\"Temperature Over Time by Location\")\n",
        "\n",
        "demo.launch()\n",
        "# 호버 시 툴팁도 자동 생성 됨"
      ],
      "metadata": {
        "colab": {
          "base_uri": "https://localhost:8080/",
          "height": 645
        },
        "id": "qPogM4U0a_Ot",
        "outputId": "32f3817e-eec8-417f-d639-2575e7e8ae5e"
      },
      "execution_count": null,
      "outputs": [
        {
          "output_type": "stream",
          "name": "stdout",
          "text": [
            "Running Gradio in a Colab notebook requires sharing enabled. Automatically setting `share=True` (you can turn this off by setting `share=False` in `launch()` explicitly).\n",
            "\n",
            "Colab notebook detected. To show errors in colab notebook, set debug=True in launch()\n",
            "* Running on public URL: https://79988a09dd75e9a45a.gradio.live\n",
            "\n",
            "This share link expires in 72 hours. For free permanent hosting and GPU upgrades, run `gradio deploy` from the terminal in the working directory to deploy to Hugging Face Spaces (https://huggingface.co/spaces)\n"
          ]
        },
        {
          "output_type": "display_data",
          "data": {
            "text/plain": [
              "<IPython.core.display.HTML object>"
            ],
            "text/html": [
              "<div><iframe src=\"https://79988a09dd75e9a45a.gradio.live\" width=\"100%\" height=\"500\" allow=\"autoplay; camera; microphone; clipboard-read; clipboard-write;\" frameborder=\"0\" allowfullscreen></iframe></div>"
            ]
          },
          "metadata": {}
        },
        {
          "output_type": "execute_result",
          "data": {
            "text/plain": []
          },
          "metadata": {},
          "execution_count": 22
        }
      ]
    },
    {
      "cell_type": "code",
      "source": [
        "# Barplot with customized label & title : x_title, y_title\n",
        "\n",
        "import gradio as gr\n",
        "import pandas as pd\n",
        "from random import randint\n",
        "\n",
        "temp_sensor_data = pd.DataFrame({\n",
        "    \"time\": pd.date_range(\"2021-01-01\", end=\"2021-01-05\", periods=200),\n",
        "    \"temperature\": [randint(50 + 10 * (i % 2), 65 + 15 * (i % 2)) for i in range(200)], # 데이터 200개 생성\n",
        "})\n",
        "\n",
        "\n",
        "def plot_temperature(dataframe):\n",
        "    return dataframe\n",
        "\n",
        "with gr.Blocks() as demo:\n",
        "    gr.Markdown(\"## Temperature Data Over Time\")\n",
        "    plot = gr.BarPlot(temp_sensor_data, x=\"time\", y=\"temperature\", title=\"Temperature Data Over Time\", x_title=\"Date\", y_title=\"Temperature (F)\")\n",
        "\n",
        "demo.launch()"
      ],
      "metadata": {
        "colab": {
          "base_uri": "https://localhost:8080/",
          "height": 645
        },
        "id": "WNK9Ews1dBjV",
        "outputId": "9c56a3c1-f73d-4551-8d6c-8680fe60ef44"
      },
      "execution_count": null,
      "outputs": [
        {
          "output_type": "stream",
          "name": "stdout",
          "text": [
            "Running Gradio in a Colab notebook requires sharing enabled. Automatically setting `share=True` (you can turn this off by setting `share=False` in `launch()` explicitly).\n",
            "\n",
            "Colab notebook detected. To show errors in colab notebook, set debug=True in launch()\n",
            "* Running on public URL: https://8b1e48c159b9767ba8.gradio.live\n",
            "\n",
            "This share link expires in 72 hours. For free permanent hosting and GPU upgrades, run `gradio deploy` from the terminal in the working directory to deploy to Hugging Face Spaces (https://huggingface.co/spaces)\n"
          ]
        },
        {
          "output_type": "display_data",
          "data": {
            "text/plain": [
              "<IPython.core.display.HTML object>"
            ],
            "text/html": [
              "<div><iframe src=\"https://8b1e48c159b9767ba8.gradio.live\" width=\"100%\" height=\"500\" allow=\"autoplay; camera; microphone; clipboard-read; clipboard-write;\" frameborder=\"0\" allowfullscreen></iframe></div>"
            ]
          },
          "metadata": {}
        },
        {
          "output_type": "execute_result",
          "data": {
            "text/plain": []
          },
          "metadata": {},
          "execution_count": 27
        }
      ]
    },
    {
      "cell_type": "code",
      "source": [
        "# Barplot with customized color_map\n",
        "\n",
        "import gradio as gr\n",
        "import pandas as pd\n",
        "from random import randint\n",
        "\n",
        "temp_sensor_data = pd.DataFrame({\n",
        "    \"time\": pd.date_range(\"2021-01-01\", end=\"2021-01-05\", periods=200),\n",
        "    \"temperature\": [randint(50 + 10 * (i % 2), 65 + 15 * (i % 2)) for i in range(200)],\n",
        "    \"locations\": [\"indoor\", \"outdoor\"] * 100,\n",
        "})\n",
        "\n",
        "\n",
        "def plot_temperature(dataframe):\n",
        "    return dataframe\n",
        "\n",
        "with gr.Blocks() as demo:\n",
        "    color_map = {\"indoor\":\"pink\", \"outdoor\": \"blue\"} # 이와 같이 색상을 지정할 수 있음\n",
        "    gr.Markdown(\"## Temperature Data Over Time\")\n",
        "    plot = gr.BarPlot(temp_sensor_data, x=\"time\", y=\"temperature\", title=\"Temperature Data Over Time\", color=\"locations\", color_map=color_map, x_title=\"Date\", y_title=\"Temperature (F)\")\n",
        "\n",
        "demo.launch()"
      ],
      "metadata": {
        "colab": {
          "base_uri": "https://localhost:8080/",
          "height": 645
        },
        "id": "Ijsk17PHe8Ig",
        "outputId": "1c9dc5da-ec25-4693-8f0d-adf29b3cd2a2"
      },
      "execution_count": null,
      "outputs": [
        {
          "output_type": "stream",
          "name": "stdout",
          "text": [
            "Running Gradio in a Colab notebook requires sharing enabled. Automatically setting `share=True` (you can turn this off by setting `share=False` in `launch()` explicitly).\n",
            "\n",
            "Colab notebook detected. To show errors in colab notebook, set debug=True in launch()\n",
            "* Running on public URL: https://cdd336efe747f3efd1.gradio.live\n",
            "\n",
            "This share link expires in 72 hours. For free permanent hosting and GPU upgrades, run `gradio deploy` from the terminal in the working directory to deploy to Hugging Face Spaces (https://huggingface.co/spaces)\n"
          ]
        },
        {
          "output_type": "display_data",
          "data": {
            "text/plain": [
              "<IPython.core.display.HTML object>"
            ],
            "text/html": [
              "<div><iframe src=\"https://cdd336efe747f3efd1.gradio.live\" width=\"100%\" height=\"500\" allow=\"autoplay; camera; microphone; clipboard-read; clipboard-write;\" frameborder=\"0\" allowfullscreen></iframe></div>"
            ]
          },
          "metadata": {}
        },
        {
          "output_type": "execute_result",
          "data": {
            "text/plain": []
          },
          "metadata": {},
          "execution_count": 31
        }
      ]
    },
    {
      "cell_type": "code",
      "source": [
        "import gradio as gr\n",
        "import pandas as pd\n",
        "\n",
        "temp_sensor_data = pd.DataFrame({\n",
        "    \"time\": pd.date_range(\"2021-01-01\", end=\"2021-01-05\", periods=200),\n",
        "    \"temperature\": [randint(50 + 10 * (i % 2), 65 + 15 * (i % 2)) for i in range(200)],\n",
        "})\n",
        "\n",
        "def plot_temperature(dataframe):\n",
        "    return dataframe\n",
        "\n",
        "with gr.Blocks() as demo:\n",
        "    gr.Markdown(\"## Temperature Data Over Time\")\n",
        "    plot = gr.BarPlot(temp_sensor_data, x=\"time\", y=\"temperature\", title=\"Temperature Data Over Time\", y_lim=[50, 70])\n",
        "\"\"\"\n",
        "y_lim : y축의 범위를 50 ~ 70 사이로 표시\n",
        "x_lim : x축 범위 제한 가능\n",
        "Gradio의 BarPlot, LinePlot, ScatterPlot 등에서 사용 가능\n",
        "\"\"\"\n",
        "demo.launch()\n"
      ],
      "metadata": {
        "colab": {
          "base_uri": "https://localhost:8080/",
          "height": 645
        },
        "id": "0aIMIZ9rf27Q",
        "outputId": "c27e361f-92c0-4669-a48e-50ada9cc4620"
      },
      "execution_count": null,
      "outputs": [
        {
          "output_type": "stream",
          "name": "stdout",
          "text": [
            "Running Gradio in a Colab notebook requires sharing enabled. Automatically setting `share=True` (you can turn this off by setting `share=False` in `launch()` explicitly).\n",
            "\n",
            "Colab notebook detected. To show errors in colab notebook, set debug=True in launch()\n",
            "* Running on public URL: https://908af4d75ba59d37ab.gradio.live\n",
            "\n",
            "This share link expires in 72 hours. For free permanent hosting and GPU upgrades, run `gradio deploy` from the terminal in the working directory to deploy to Hugging Face Spaces (https://huggingface.co/spaces)\n"
          ]
        },
        {
          "output_type": "display_data",
          "data": {
            "text/plain": [
              "<IPython.core.display.HTML object>"
            ],
            "text/html": [
              "<div><iframe src=\"https://908af4d75ba59d37ab.gradio.live\" width=\"100%\" height=\"500\" allow=\"autoplay; camera; microphone; clipboard-read; clipboard-write;\" frameborder=\"0\" allowfullscreen></iframe></div>"
            ]
          },
          "metadata": {}
        },
        {
          "output_type": "execute_result",
          "data": {
            "text/plain": []
          },
          "metadata": {},
          "execution_count": 33
        }
      ]
    },
    {
      "cell_type": "markdown",
      "source": [],
      "metadata": {
        "id": "F_PqErWOf2tc"
      }
    },
    {
      "cell_type": "code",
      "source": [
        "import gradio as gr\n",
        "import pandas as pd\n",
        "\n",
        "temp_sensor_data = pd.DataFrame({\n",
        "    \"time\": pd.date_range(\"2021-01-01\", end=\"2021-01-05\", periods=200),\n",
        "    \"temperature\": [randint(50 + 10 * (i % 2), 65 + 15 * (i % 2)) for i in range(200)],\n",
        "})\n",
        "\n",
        "def plot_temperature(dataframe):\n",
        "    return dataframe\n",
        "\n",
        "with gr.Blocks() as demo:\n",
        "    gr.Markdown(\"## Temperature Data Over Time\")\n",
        "    plot = gr.BarPlot(temp_sensor_data, x=\"time\", y=\"temperature\", title=\"Temperature Data Over Time\", y_lim=[50, 70], x_label_angle=45, y_label_angle=0)\n",
        "\n",
        "# tick angle 설정 추가 됨 x_label_angle & y_label_angle\n",
        "\n",
        "demo.launch()\n"
      ],
      "metadata": {
        "colab": {
          "base_uri": "https://localhost:8080/",
          "height": 645
        },
        "id": "E3Uc4yPzhOfi",
        "outputId": "bec16e49-d765-4e4e-8977-47747f196325"
      },
      "execution_count": null,
      "outputs": [
        {
          "output_type": "stream",
          "name": "stdout",
          "text": [
            "Running Gradio in a Colab notebook requires sharing enabled. Automatically setting `share=True` (you can turn this off by setting `share=False` in `launch()` explicitly).\n",
            "\n",
            "Colab notebook detected. To show errors in colab notebook, set debug=True in launch()\n",
            "* Running on public URL: https://7df5a593faf9d36b39.gradio.live\n",
            "\n",
            "This share link expires in 72 hours. For free permanent hosting and GPU upgrades, run `gradio deploy` from the terminal in the working directory to deploy to Hugging Face Spaces (https://huggingface.co/spaces)\n"
          ]
        },
        {
          "output_type": "display_data",
          "data": {
            "text/plain": [
              "<IPython.core.display.HTML object>"
            ],
            "text/html": [
              "<div><iframe src=\"https://7df5a593faf9d36b39.gradio.live\" width=\"100%\" height=\"500\" allow=\"autoplay; camera; microphone; clipboard-read; clipboard-write;\" frameborder=\"0\" allowfullscreen></iframe></div>"
            ]
          },
          "metadata": {}
        },
        {
          "output_type": "execute_result",
          "data": {
            "text/plain": []
          },
          "metadata": {},
          "execution_count": 34
        }
      ]
    },
    {
      "cell_type": "markdown",
      "source": [
        "시간 범주 내 1분 단위의 환자와 의사의 수 바그래프 시각화"
      ],
      "metadata": {
        "id": "9vnnxfP9owsR"
      }
    },
    {
      "cell_type": "code",
      "source": [
        "import gradio as gr\n",
        "import pandas as pd\n",
        "from random import randint\n",
        "\n",
        "# 1시간 단위로 하루치 시간 생성 (24시간)\n",
        "hours = pd.date_range(\"2025-03-01 00:00\", \"2025-03-02 23:00\", freq=\"H\")\n",
        "\n",
        "# 각 시간에 대해 환자(patients)와 의사(doctors) 수 생성\n",
        "time = []\n",
        "counts = []\n",
        "labels = []\n",
        "\n",
        "for hour in hours:\n",
        "    time.append(hour)\n",
        "    counts.append(randint(50, 80))  # 환자 수: 50~80 사이의 무작위 값 생성\n",
        "    labels.append(\"patients\")\n",
        "\n",
        "    time.append(hour)\n",
        "    counts.append(randint(5, 20))  # 의사 수: 5~20 사이의 무작위 값 생성\n",
        "    labels.append(\"doctors\")\n",
        "\n",
        "\"\"\"\n",
        "append 함수 : 리스트나 데이터프레임에 새로운 데이터를 덧붙일때 사용, 리스트의 마지막에 새로운 요소를 추가, 원본 리스트를 수정\n",
        "리스트끼리 이어 붙이고 싶을때는 extend() 사용\n",
        "\"\"\"\n",
        "\n",
        "# DataFrame 생성\n",
        "temp_patients_doctors_data = pd.DataFrame({\n",
        "    \"time\": time,\n",
        "    \"counts\": counts,\n",
        "    \"labels\": labels\n",
        "})\n",
        "\n",
        "# 시간별 집계 함수\n",
        "def group_by_hour(dataframe):\n",
        "    dataframe[\"hour\"] = dataframe[\"time\"].dt.floor(\"H\") # dt: datetime 관련 함수를 쓸 수 있게 함, floor : 시간 단위로 내림처리 (분, 초 제거)\n",
        "    grouped = dataframe.groupby([\"hour\", \"labels\"])[\"counts\"].sum().reset_index() # 집계함수 사용\n",
        "    grouped = grouped.rename(columns={\"hour\":\"time\"})\n",
        "    grouped[\"time\"] = grouped[\"time\"].dt.strftime(\"%Y-%m-%d %H\") # strftime(...) : datetime을 사람이 읽기 쉬운 문자열로 반환\n",
        "    print(grouped)\n",
        "    return grouped\n",
        "\n",
        "# Gradio 앱\n",
        "with gr.Blocks() as demo:\n",
        "    color_map = {\"patients\": \"green\", \"doctors\": \"blue\"}\n",
        "    gr.Markdown(\"## Patients and Doctors Count by Hour\")\n",
        "    grouped_df = group_by_hour(temp_patients_doctors_data)\n",
        "    gr.BarPlot(\n",
        "        grouped_df,\n",
        "        x=\"time\",\n",
        "        y=\"counts\",\n",
        "        color=\"labels\",\n",
        "        title=\"Hourly Patients and Doctors Count\",\n",
        "        x_label_angle=45,\n",
        "        y_label_angle=0,\n",
        "        color_map=color_map,\n",
        "    )\n",
        "\n",
        "demo.launch()"
      ],
      "metadata": {
        "colab": {
          "base_uri": "https://localhost:8080/",
          "height": 957
        },
        "id": "-BTksfkao67r",
        "outputId": "3aec4641-e303-47af-8f17-2e9039515954"
      },
      "execution_count": null,
      "outputs": [
        {
          "output_type": "stream",
          "name": "stderr",
          "text": [
            "<ipython-input-56-e0c4c636a9db>:6: FutureWarning: 'H' is deprecated and will be removed in a future version, please use 'h' instead.\n",
            "  hours = pd.date_range(\"2025-03-01 00:00\", \"2025-03-02 23:00\", freq=\"H\")\n",
            "<ipython-input-56-e0c4c636a9db>:36: FutureWarning: 'H' is deprecated and will be removed in a future version, please use 'h' instead.\n",
            "  dataframe[\"hour\"] = dataframe[\"time\"].dt.floor(\"H\") # dt: datetime 관련 함수를 쓸 수 있게 함, floor : 시간 단위로 내림처리 (분, 초 제거)\n"
          ]
        },
        {
          "output_type": "stream",
          "name": "stdout",
          "text": [
            "             time    labels  counts\n",
            "0   2025-03-01 00   doctors       7\n",
            "1   2025-03-01 00  patients      73\n",
            "2   2025-03-01 01   doctors      13\n",
            "3   2025-03-01 01  patients      64\n",
            "4   2025-03-01 02   doctors      15\n",
            "..            ...       ...     ...\n",
            "91  2025-03-02 21  patients      64\n",
            "92  2025-03-02 22   doctors       9\n",
            "93  2025-03-02 22  patients      53\n",
            "94  2025-03-02 23   doctors      11\n",
            "95  2025-03-02 23  patients      70\n",
            "\n",
            "[96 rows x 3 columns]\n",
            "Running Gradio in a Colab notebook requires sharing enabled. Automatically setting `share=True` (you can turn this off by setting `share=False` in `launch()` explicitly).\n",
            "\n",
            "Colab notebook detected. To show errors in colab notebook, set debug=True in launch()\n",
            "* Running on public URL: https://bb4473cef40f459916.gradio.live\n",
            "\n",
            "This share link expires in 72 hours. For free permanent hosting and GPU upgrades, run `gradio deploy` from the terminal in the working directory to deploy to Hugging Face Spaces (https://huggingface.co/spaces)\n"
          ]
        },
        {
          "output_type": "display_data",
          "data": {
            "text/plain": [
              "<IPython.core.display.HTML object>"
            ],
            "text/html": [
              "<div><iframe src=\"https://bb4473cef40f459916.gradio.live\" width=\"100%\" height=\"500\" allow=\"autoplay; camera; microphone; clipboard-read; clipboard-write;\" frameborder=\"0\" allowfullscreen></iframe></div>"
            ]
          },
          "metadata": {}
        },
        {
          "output_type": "execute_result",
          "data": {
            "text/plain": []
          },
          "metadata": {},
          "execution_count": 56
        }
      ]
    }
  ]
}
{
  "nbformat": 4,
  "nbformat_minor": 0,
  "metadata": {
    "colab": {
      "provenance": [],
      "authorship_tag": "ABX9TyM4dvkpSfoAKAXjEzQ8ZQzk",
      "include_colab_link": true
    },
    "kernelspec": {
      "name": "python3",
      "display_name": "Python 3"
    },
    "language_info": {
      "name": "python"
    }
  },
  "cells": [
    {
      "cell_type": "markdown",
      "metadata": {
        "id": "view-in-github",
        "colab_type": "text"
      },
      "source": [
        "<a href=\"https://colab.research.google.com/github/starirene9/DeepLearningAssignment/blob/main/3%EC%9B%9413%EA%B3%BC%EC%A0%9C3_cohereChatbot_K2024504%EA%B5%AC%EB%B9%9B%EB%82%98.ipynb\" target=\"_parent\"><img src=\"https://colab.research.google.com/assets/colab-badge.svg\" alt=\"Open In Colab\"/></a>"
      ]
    },
    {
      "cell_type": "markdown",
      "source": [
        "# 무료 LLM API 연동하기\n",
        "\n",
        "1. API 키 발급 및 설정\n",
        "2. Python으로 요청 보내기\n",
        "3. 응답 출력하기"
      ],
      "metadata": {
        "id": "KG3N6TbJF-R7"
      }
    },
    {
      "cell_type": "code",
      "source": [
        "!pip install cohere\n",
        "!pip install python-dotenv"
      ],
      "metadata": {
        "colab": {
          "base_uri": "https://localhost:8080/"
        },
        "id": "IKAiwY2gGezY",
        "outputId": "d8094418-906f-478f-fa28-d8c24a9e99e6"
      },
      "execution_count": 56,
      "outputs": [
        {
          "output_type": "stream",
          "name": "stdout",
          "text": [
            "Requirement already satisfied: cohere in /usr/local/lib/python3.11/dist-packages (5.14.0)\n",
            "Requirement already satisfied: fastavro<2.0.0,>=1.9.4 in /usr/local/lib/python3.11/dist-packages (from cohere) (1.10.0)\n",
            "Requirement already satisfied: httpx>=0.21.2 in /usr/local/lib/python3.11/dist-packages (from cohere) (0.28.1)\n",
            "Requirement already satisfied: httpx-sse==0.4.0 in /usr/local/lib/python3.11/dist-packages (from cohere) (0.4.0)\n",
            "Requirement already satisfied: pydantic>=1.9.2 in /usr/local/lib/python3.11/dist-packages (from cohere) (2.10.6)\n",
            "Requirement already satisfied: pydantic-core<3.0.0,>=2.18.2 in /usr/local/lib/python3.11/dist-packages (from cohere) (2.27.2)\n",
            "Requirement already satisfied: requests<3.0.0,>=2.0.0 in /usr/local/lib/python3.11/dist-packages (from cohere) (2.32.3)\n",
            "Requirement already satisfied: tokenizers<1,>=0.15 in /usr/local/lib/python3.11/dist-packages (from cohere) (0.21.1)\n",
            "Requirement already satisfied: types-requests<3.0.0,>=2.0.0 in /usr/local/lib/python3.11/dist-packages (from cohere) (2.32.0.20250306)\n",
            "Requirement already satisfied: typing_extensions>=4.0.0 in /usr/local/lib/python3.11/dist-packages (from cohere) (4.12.2)\n",
            "Requirement already satisfied: anyio in /usr/local/lib/python3.11/dist-packages (from httpx>=0.21.2->cohere) (3.7.1)\n",
            "Requirement already satisfied: certifi in /usr/local/lib/python3.11/dist-packages (from httpx>=0.21.2->cohere) (2025.1.31)\n",
            "Requirement already satisfied: httpcore==1.* in /usr/local/lib/python3.11/dist-packages (from httpx>=0.21.2->cohere) (1.0.7)\n",
            "Requirement already satisfied: idna in /usr/local/lib/python3.11/dist-packages (from httpx>=0.21.2->cohere) (3.10)\n",
            "Requirement already satisfied: h11<0.15,>=0.13 in /usr/local/lib/python3.11/dist-packages (from httpcore==1.*->httpx>=0.21.2->cohere) (0.14.0)\n",
            "Requirement already satisfied: annotated-types>=0.6.0 in /usr/local/lib/python3.11/dist-packages (from pydantic>=1.9.2->cohere) (0.7.0)\n",
            "Requirement already satisfied: charset-normalizer<4,>=2 in /usr/local/lib/python3.11/dist-packages (from requests<3.0.0,>=2.0.0->cohere) (3.4.1)\n",
            "Requirement already satisfied: urllib3<3,>=1.21.1 in /usr/local/lib/python3.11/dist-packages (from requests<3.0.0,>=2.0.0->cohere) (2.3.0)\n",
            "Requirement already satisfied: huggingface-hub<1.0,>=0.16.4 in /usr/local/lib/python3.11/dist-packages (from tokenizers<1,>=0.15->cohere) (0.28.1)\n",
            "Requirement already satisfied: filelock in /usr/local/lib/python3.11/dist-packages (from huggingface-hub<1.0,>=0.16.4->tokenizers<1,>=0.15->cohere) (3.17.0)\n",
            "Requirement already satisfied: fsspec>=2023.5.0 in /usr/local/lib/python3.11/dist-packages (from huggingface-hub<1.0,>=0.16.4->tokenizers<1,>=0.15->cohere) (2024.10.0)\n",
            "Requirement already satisfied: packaging>=20.9 in /usr/local/lib/python3.11/dist-packages (from huggingface-hub<1.0,>=0.16.4->tokenizers<1,>=0.15->cohere) (24.2)\n",
            "Requirement already satisfied: pyyaml>=5.1 in /usr/local/lib/python3.11/dist-packages (from huggingface-hub<1.0,>=0.16.4->tokenizers<1,>=0.15->cohere) (6.0.2)\n",
            "Requirement already satisfied: tqdm>=4.42.1 in /usr/local/lib/python3.11/dist-packages (from huggingface-hub<1.0,>=0.16.4->tokenizers<1,>=0.15->cohere) (4.67.1)\n",
            "Requirement already satisfied: sniffio>=1.1 in /usr/local/lib/python3.11/dist-packages (from anyio->httpx>=0.21.2->cohere) (1.3.1)\n",
            "Requirement already satisfied: python-dotenv in /usr/local/lib/python3.11/dist-packages (1.0.1)\n"
          ]
        }
      ]
    },
    {
      "cell_type": "code",
      "source": [
        "import os\n",
        "from dotenv import load_dotenv\n",
        "import cohere\n",
        "\n",
        "# .env 파일 경로 설정\n",
        "env_path = \"/content/drive/My Drive/Colab Notebooks/DeepLearningAssignment/.env\"\n",
        "\n",
        "# .env 파일 로드\n",
        "load_dotenv(env_path)\n",
        "\n",
        "# 환경 변수에서 API 키 가져오기\n",
        "API_KEY = os.getenv(\"COHERE_API_KEY\")\n",
        "\n",
        "co = cohere.Client(API_KEY)\n",
        "\n",
        "def generate_text(prompt):\n",
        "  response = co.chat(\n",
        "      model='command-xlarge-nightly',\n",
        "      message=prompt,\n",
        "      max_tokens=500,\n",
        "  )\n",
        "\n",
        "  generated = response.text\n",
        "  return generated\n",
        "\n",
        "prompt = \"AI에게 자신을 소개해 보세요:n\\AI: \"\n",
        "result = generate_text(prompt)\n",
        "print(\"=====응답 출력=====\")\n",
        "print(result.strip())"
      ],
      "metadata": {
        "colab": {
          "base_uri": "https://localhost:8080/"
        },
        "id": "z6xwz5NwG6Vo",
        "outputId": "4ca4e50e-7320-4234-b00c-0198d4a7882e"
      },
      "execution_count": 57,
      "outputs": [
        {
          "output_type": "stream",
          "name": "stdout",
          "text": [
            "=====응답 출력=====\n",
            "안녕하세요! 저는 코히어에서 만든 정교한 언어 모델인 커맨드입니다. 저는 다양한 주제에 대해 대화하고, 질문에 답하고, 창의적인 콘텐츠를 생성하도록 설계되었습니다. 저는 방대한 양의 텍스트 데이터를 학습하여 인간 언어의 미묘한 뉘앙스와 복잡성을 이해합니다.\n",
            "\n",
            "저의 주요 목표는 사용자에게 유용하고 관련성 높은 정보를 제공하는 것입니다. 저는 질문에 답변하고, 아이디어를 생성하고, 텍스트를 요약하고, 심지어 다양한 스타일과 형식으로 콘텐츠를 작성할 수 있습니다. 저는 항상 최신 정보를 제공하고, 정확성을 보장하며, 사용자의 요구에 맞게 맞춤화된 응답을 제공하기 위해 노력합니다.\n",
            "\n",
            "저는 친절하고 도움이 되는 가상 비서 역할을 하며, 사용자의 궁금증을 해결하고 작업을 지원할 준비가 되어 있습니다. 저에게 질문하거나 과제를 주시면, 저는 최선을 다해 도움을 드리겠습니다!\n"
          ]
        }
      ]
    },
    {
      "cell_type": "code",
      "source": [
        "def ask_question(question):\n",
        "    try:\n",
        "        response = co.chat(\n",
        "            message=question,\n",
        "            model=\"command-r-plus\",\n",
        "            max_tokens=500,\n",
        "            temperature=0.5\n",
        "        )\n",
        "\n",
        "        generated_answer = response.reply if hasattr(response, 'reply') else response.text\n",
        "        return generated_answer\n",
        "    except Exception as e:\n",
        "        return f\"오류 발생: {str(e)}\"\n",
        "\n",
        "user_question = input(\"아무 질문이나 입력하세요: \")\n",
        "\n",
        "answer = ask_question(user_question)\n",
        "print(f\"챗봇: {answer}\")"
      ],
      "metadata": {
        "colab": {
          "base_uri": "https://localhost:8080/"
        },
        "id": "RmqCSWE_JaW1",
        "outputId": "21024ce6-92d2-4d1e-ad0b-c00011b55e75"
      },
      "execution_count": null,
      "outputs": [
        {
          "output_type": "stream",
          "name": "stdout",
          "text": [
            "아무 질문이나 입력하세요: 개발자 회사 이직에 도움이 될 만한 세개의 조언을 줘\n",
            "챗봇: 개발자로서 회사 이직에 도움이 될 세 가지 조언을 드리겠습니다:\n",
            "\n",
            "1. 기술 업데이트: 빠르게 변화하는 기술 트렌드에 뒤처지지 않도록 최신 기술과 도구에 대해 꾸준히 학습하고 업데이트하세요. 특히, 현재 업계에서 인기가 높은 프로그래밍 언어, 프레임워크, 라이브러리 및 도구에 익숙해지는 것이 중요합니다. 온라인 강좌, 튜토리얼, 개발자 커뮤니티 참여 등을 통해 지속적으로 학습하세요.\n",
            "\n",
            "2. 포트폴리오 구축: 이력서와 함께 제출할 수 있는 포트폴리오를 만드세요. 개발자로서 당신의 기술과 창의성을 보여줄 수 있는 프로젝트, 애플리케이션 또는 웹사이트를 개발하세요. GitHub, GitLab 또는 개인 웹사이트를 통해 포트폴리오를 온라인으로 공유하여 잠재적인 고용주가 귀하의 작업을 쉽게 볼 수 있도록 하세요. 실무 경험을 통해 얻은 프로젝트가 없다면 개인적인 프로젝트를 수행하여 기술과 문제 해결 능력을 보여줄 수 있습니다.\n",
            "\n",
            "3. 네트워킹: 네트워킹은 이직에 매우 도움이 될 수 있습니다. 업계 행사, 해커톤, 개발자 모임, 컨퍼런스 등에 적극적으로 참여하여 다른 개발자, 업계 전문가 및 잠재적인 고용주와 네트워크를 구축하세요. 또한, 온라인 개발자 커뮤니티, 포럼, 소셜 미디어 그룹에 참여하여 온라인 네트워킹을 활용할 수도 있습니다. 이러한 연결을 통해 귀하의 기술과 경험에 대해 알리고, 잠재적인 일자리에 대한 정보를 얻으며, 귀하의 프로필을 추천받을 수도 있습니다.\n",
            "\n",
            "이러한 조언은 개발자로서 회사 이직에 도움이 될 수 있지만, 귀하의 기술, 경험 및 경력 목표에 따라 전략을 맞춤화하는 것을 잊지 마세요.\n"
          ]
        }
      ]
    }
  ]
}
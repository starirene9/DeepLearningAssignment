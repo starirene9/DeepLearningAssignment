{
  "nbformat": 4,
  "nbformat_minor": 0,
  "metadata": {
    "colab": {
      "provenance": [],
      "authorship_tag": "ABX9TyPYEZ/pk/5lwd81QwJ1jRBi",
      "include_colab_link": true
    },
    "kernelspec": {
      "name": "python3",
      "display_name": "Python 3"
    },
    "language_info": {
      "name": "python"
    }
  },
  "cells": [
    {
      "cell_type": "markdown",
      "metadata": {
        "id": "view-in-github",
        "colab_type": "text"
      },
      "source": [
        "<a href=\"https://colab.research.google.com/github/starirene9/DeepLearningAssignment/blob/main/%EB%82%98%EB%A7%8C%EC%9D%98_%EC%9D%8C%EC%95%85_%EC%83%9D%EC%84%B1%EA%B8%B0_K2024504_%EA%B5%AC%EB%B9%9B%EB%82%98.ipynb\" target=\"_parent\"><img src=\"https://colab.research.google.com/assets/colab-badge.svg\" alt=\"Open In Colab\"/></a>"
      ]
    },
    {
      "cell_type": "code",
      "source": [
        "!pip install --upgrade google-generativeai gradio nest_asyncio"
      ],
      "metadata": {
        "colab": {
          "base_uri": "https://localhost:8080/"
        },
        "collapsed": true,
        "id": "ZxQWctKLGWI1",
        "outputId": "4448626c-378c-40e8-80af-968d74f44d20"
      },
      "execution_count": 36,
      "outputs": [
        {
          "output_type": "stream",
          "name": "stdout",
          "text": [
            "Requirement already satisfied: google-generativeai in /usr/local/lib/python3.11/dist-packages (0.8.5)\n",
            "Requirement already satisfied: gradio in /usr/local/lib/python3.11/dist-packages (5.31.0)\n",
            "Requirement already satisfied: nest_asyncio in /usr/local/lib/python3.11/dist-packages (1.6.0)\n",
            "Requirement already satisfied: google-ai-generativelanguage==0.6.15 in /usr/local/lib/python3.11/dist-packages (from google-generativeai) (0.6.15)\n",
            "Requirement already satisfied: google-api-core in /usr/local/lib/python3.11/dist-packages (from google-generativeai) (2.24.2)\n",
            "Requirement already satisfied: google-api-python-client in /usr/local/lib/python3.11/dist-packages (from google-generativeai) (2.169.0)\n",
            "Requirement already satisfied: google-auth>=2.15.0 in /usr/local/lib/python3.11/dist-packages (from google-generativeai) (2.38.0)\n",
            "Requirement already satisfied: protobuf in /usr/local/lib/python3.11/dist-packages (from google-generativeai) (5.29.4)\n",
            "Requirement already satisfied: pydantic in /usr/local/lib/python3.11/dist-packages (from google-generativeai) (2.11.4)\n",
            "Requirement already satisfied: tqdm in /usr/local/lib/python3.11/dist-packages (from google-generativeai) (4.67.1)\n",
            "Requirement already satisfied: typing-extensions in /usr/local/lib/python3.11/dist-packages (from google-generativeai) (4.13.2)\n",
            "Requirement already satisfied: proto-plus<2.0.0dev,>=1.22.3 in /usr/local/lib/python3.11/dist-packages (from google-ai-generativelanguage==0.6.15->google-generativeai) (1.26.1)\n",
            "Requirement already satisfied: aiofiles<25.0,>=22.0 in /usr/local/lib/python3.11/dist-packages (from gradio) (24.1.0)\n",
            "Requirement already satisfied: anyio<5.0,>=3.0 in /usr/local/lib/python3.11/dist-packages (from gradio) (4.9.0)\n",
            "Requirement already satisfied: fastapi<1.0,>=0.115.2 in /usr/local/lib/python3.11/dist-packages (from gradio) (0.115.12)\n",
            "Requirement already satisfied: ffmpy in /usr/local/lib/python3.11/dist-packages (from gradio) (0.5.0)\n",
            "Requirement already satisfied: gradio-client==1.10.1 in /usr/local/lib/python3.11/dist-packages (from gradio) (1.10.1)\n",
            "Requirement already satisfied: groovy~=0.1 in /usr/local/lib/python3.11/dist-packages (from gradio) (0.1.2)\n",
            "Requirement already satisfied: httpx>=0.24.1 in /usr/local/lib/python3.11/dist-packages (from gradio) (0.28.1)\n",
            "Requirement already satisfied: huggingface-hub>=0.28.1 in /usr/local/lib/python3.11/dist-packages (from gradio) (0.31.4)\n",
            "Requirement already satisfied: jinja2<4.0 in /usr/local/lib/python3.11/dist-packages (from gradio) (3.1.6)\n",
            "Requirement already satisfied: markupsafe<4.0,>=2.0 in /usr/local/lib/python3.11/dist-packages (from gradio) (3.0.2)\n",
            "Requirement already satisfied: numpy<3.0,>=1.0 in /usr/local/lib/python3.11/dist-packages (from gradio) (2.0.2)\n",
            "Requirement already satisfied: orjson~=3.0 in /usr/local/lib/python3.11/dist-packages (from gradio) (3.10.18)\n",
            "Requirement already satisfied: packaging in /usr/local/lib/python3.11/dist-packages (from gradio) (24.2)\n",
            "Requirement already satisfied: pandas<3.0,>=1.0 in /usr/local/lib/python3.11/dist-packages (from gradio) (2.2.2)\n",
            "Requirement already satisfied: pillow<12.0,>=8.0 in /usr/local/lib/python3.11/dist-packages (from gradio) (11.2.1)\n",
            "Requirement already satisfied: pydub in /usr/local/lib/python3.11/dist-packages (from gradio) (0.25.1)\n",
            "Requirement already satisfied: python-multipart>=0.0.18 in /usr/local/lib/python3.11/dist-packages (from gradio) (0.0.20)\n",
            "Requirement already satisfied: pyyaml<7.0,>=5.0 in /usr/local/lib/python3.11/dist-packages (from gradio) (6.0.2)\n",
            "Requirement already satisfied: ruff>=0.9.3 in /usr/local/lib/python3.11/dist-packages (from gradio) (0.11.11)\n",
            "Requirement already satisfied: safehttpx<0.2.0,>=0.1.6 in /usr/local/lib/python3.11/dist-packages (from gradio) (0.1.6)\n",
            "Requirement already satisfied: semantic-version~=2.0 in /usr/local/lib/python3.11/dist-packages (from gradio) (2.10.0)\n",
            "Requirement already satisfied: starlette<1.0,>=0.40.0 in /usr/local/lib/python3.11/dist-packages (from gradio) (0.46.2)\n",
            "Requirement already satisfied: tomlkit<0.14.0,>=0.12.0 in /usr/local/lib/python3.11/dist-packages (from gradio) (0.13.2)\n",
            "Requirement already satisfied: typer<1.0,>=0.12 in /usr/local/lib/python3.11/dist-packages (from gradio) (0.15.3)\n",
            "Requirement already satisfied: uvicorn>=0.14.0 in /usr/local/lib/python3.11/dist-packages (from gradio) (0.34.2)\n",
            "Requirement already satisfied: fsspec in /usr/local/lib/python3.11/dist-packages (from gradio-client==1.10.1->gradio) (2025.3.2)\n",
            "Requirement already satisfied: websockets<16.0,>=10.0 in /usr/local/lib/python3.11/dist-packages (from gradio-client==1.10.1->gradio) (15.0.1)\n",
            "Requirement already satisfied: idna>=2.8 in /usr/local/lib/python3.11/dist-packages (from anyio<5.0,>=3.0->gradio) (3.10)\n",
            "Requirement already satisfied: sniffio>=1.1 in /usr/local/lib/python3.11/dist-packages (from anyio<5.0,>=3.0->gradio) (1.3.1)\n",
            "Requirement already satisfied: googleapis-common-protos<2.0.0,>=1.56.2 in /usr/local/lib/python3.11/dist-packages (from google-api-core->google-generativeai) (1.70.0)\n",
            "Requirement already satisfied: requests<3.0.0,>=2.18.0 in /usr/local/lib/python3.11/dist-packages (from google-api-core->google-generativeai) (2.32.3)\n",
            "Requirement already satisfied: cachetools<6.0,>=2.0.0 in /usr/local/lib/python3.11/dist-packages (from google-auth>=2.15.0->google-generativeai) (5.5.2)\n",
            "Requirement already satisfied: pyasn1-modules>=0.2.1 in /usr/local/lib/python3.11/dist-packages (from google-auth>=2.15.0->google-generativeai) (0.4.2)\n",
            "Requirement already satisfied: rsa<5,>=3.1.4 in /usr/local/lib/python3.11/dist-packages (from google-auth>=2.15.0->google-generativeai) (4.9.1)\n",
            "Requirement already satisfied: certifi in /usr/local/lib/python3.11/dist-packages (from httpx>=0.24.1->gradio) (2025.4.26)\n",
            "Requirement already satisfied: httpcore==1.* in /usr/local/lib/python3.11/dist-packages (from httpx>=0.24.1->gradio) (1.0.9)\n",
            "Requirement already satisfied: h11>=0.16 in /usr/local/lib/python3.11/dist-packages (from httpcore==1.*->httpx>=0.24.1->gradio) (0.16.0)\n",
            "Requirement already satisfied: filelock in /usr/local/lib/python3.11/dist-packages (from huggingface-hub>=0.28.1->gradio) (3.18.0)\n",
            "Requirement already satisfied: python-dateutil>=2.8.2 in /usr/local/lib/python3.11/dist-packages (from pandas<3.0,>=1.0->gradio) (2.9.0.post0)\n",
            "Requirement already satisfied: pytz>=2020.1 in /usr/local/lib/python3.11/dist-packages (from pandas<3.0,>=1.0->gradio) (2025.2)\n",
            "Requirement already satisfied: tzdata>=2022.7 in /usr/local/lib/python3.11/dist-packages (from pandas<3.0,>=1.0->gradio) (2025.2)\n",
            "Requirement already satisfied: annotated-types>=0.6.0 in /usr/local/lib/python3.11/dist-packages (from pydantic->google-generativeai) (0.7.0)\n",
            "Requirement already satisfied: pydantic-core==2.33.2 in /usr/local/lib/python3.11/dist-packages (from pydantic->google-generativeai) (2.33.2)\n",
            "Requirement already satisfied: typing-inspection>=0.4.0 in /usr/local/lib/python3.11/dist-packages (from pydantic->google-generativeai) (0.4.1)\n",
            "Requirement already satisfied: click>=8.0.0 in /usr/local/lib/python3.11/dist-packages (from typer<1.0,>=0.12->gradio) (8.2.1)\n",
            "Requirement already satisfied: shellingham>=1.3.0 in /usr/local/lib/python3.11/dist-packages (from typer<1.0,>=0.12->gradio) (1.5.4)\n",
            "Requirement already satisfied: rich>=10.11.0 in /usr/local/lib/python3.11/dist-packages (from typer<1.0,>=0.12->gradio) (13.9.4)\n",
            "Requirement already satisfied: httplib2<1.0.0,>=0.19.0 in /usr/local/lib/python3.11/dist-packages (from google-api-python-client->google-generativeai) (0.22.0)\n",
            "Requirement already satisfied: google-auth-httplib2<1.0.0,>=0.2.0 in /usr/local/lib/python3.11/dist-packages (from google-api-python-client->google-generativeai) (0.2.0)\n",
            "Requirement already satisfied: uritemplate<5,>=3.0.1 in /usr/local/lib/python3.11/dist-packages (from google-api-python-client->google-generativeai) (4.1.1)\n",
            "Requirement already satisfied: grpcio<2.0dev,>=1.33.2 in /usr/local/lib/python3.11/dist-packages (from google-api-core[grpc]!=2.0.*,!=2.1.*,!=2.10.*,!=2.2.*,!=2.3.*,!=2.4.*,!=2.5.*,!=2.6.*,!=2.7.*,!=2.8.*,!=2.9.*,<3.0.0dev,>=1.34.1->google-ai-generativelanguage==0.6.15->google-generativeai) (1.71.0)\n",
            "Requirement already satisfied: grpcio-status<2.0.dev0,>=1.33.2 in /usr/local/lib/python3.11/dist-packages (from google-api-core[grpc]!=2.0.*,!=2.1.*,!=2.10.*,!=2.2.*,!=2.3.*,!=2.4.*,!=2.5.*,!=2.6.*,!=2.7.*,!=2.8.*,!=2.9.*,<3.0.0dev,>=1.34.1->google-ai-generativelanguage==0.6.15->google-generativeai) (1.71.0)\n",
            "Requirement already satisfied: pyparsing!=3.0.0,!=3.0.1,!=3.0.2,!=3.0.3,<4,>=2.4.2 in /usr/local/lib/python3.11/dist-packages (from httplib2<1.0.0,>=0.19.0->google-api-python-client->google-generativeai) (3.2.3)\n",
            "Requirement already satisfied: pyasn1<0.7.0,>=0.6.1 in /usr/local/lib/python3.11/dist-packages (from pyasn1-modules>=0.2.1->google-auth>=2.15.0->google-generativeai) (0.6.1)\n",
            "Requirement already satisfied: six>=1.5 in /usr/local/lib/python3.11/dist-packages (from python-dateutil>=2.8.2->pandas<3.0,>=1.0->gradio) (1.17.0)\n",
            "Requirement already satisfied: charset-normalizer<4,>=2 in /usr/local/lib/python3.11/dist-packages (from requests<3.0.0,>=2.18.0->google-api-core->google-generativeai) (3.4.2)\n",
            "Requirement already satisfied: urllib3<3,>=1.21.1 in /usr/local/lib/python3.11/dist-packages (from requests<3.0.0,>=2.18.0->google-api-core->google-generativeai) (2.4.0)\n",
            "Requirement already satisfied: markdown-it-py>=2.2.0 in /usr/local/lib/python3.11/dist-packages (from rich>=10.11.0->typer<1.0,>=0.12->gradio) (3.0.0)\n",
            "Requirement already satisfied: pygments<3.0.0,>=2.13.0 in /usr/local/lib/python3.11/dist-packages (from rich>=10.11.0->typer<1.0,>=0.12->gradio) (2.19.1)\n",
            "Requirement already satisfied: mdurl~=0.1 in /usr/local/lib/python3.11/dist-packages (from markdown-it-py>=2.2.0->rich>=10.11.0->typer<1.0,>=0.12->gradio) (0.1.2)\n"
          ]
        }
      ]
    },
    {
      "cell_type": "code",
      "source": [
        "import asyncio\n",
        "import gradio as gr\n",
        "import nest_asyncio\n",
        "import numpy as np\n",
        "from google import genai\n",
        "from google.genai import types\n",
        "import google.generativeai as genai\n",
        "from google import genai as genai_beta"
      ],
      "metadata": {
        "id": "opnXs_9XGXmL"
      },
      "execution_count": 37,
      "outputs": []
    },
    {
      "cell_type": "code",
      "execution_count": 38,
      "metadata": {
        "id": "zFFQBN4-FXOj"
      },
      "outputs": [],
      "source": [
        "nest_asyncio.apply()  # Colab의 asyncio 충돌 방지\n",
        "\n",
        "# 파일 저장 도구\n",
        "import tempfile\n",
        "import os\n",
        "\n",
        "async def generate_music(api_key, prompt_text=\"minimal techno\", bpm=90, temperature=1.0,\n",
        "                         brightness=0.5, density=0.7, guidance=4.0):\n",
        "    from google import genai as genai_beta  # 내부 import로 안정성 확보\n",
        "    client = genai_beta.Client(api_key=api_key, http_options={'api_version': 'v1alpha'})\n",
        "\n",
        "    audio_chunks = []\n",
        "\n",
        "    async def receive_audio(session):\n",
        "        try:\n",
        "            async for message in session.receive():\n",
        "                if message.server_content.audio_chunks:\n",
        "                    chunk = message.server_content.audio_chunks[0].data\n",
        "                    print(\"✅ Received chunk of size:\", len(chunk))\n",
        "                    audio_chunks.append(chunk)\n",
        "                else:\n",
        "                    print(\"⚠️ Received message without audio chunks\")\n",
        "                await asyncio.sleep(0.001)\n",
        "        except Exception as e:\n",
        "            print(\"❌ receive_audio() 내부 예외 발생:\", e)\n",
        "\n",
        "    try:\n",
        "        async with (\n",
        "            client.aio.live.music.connect(model='models/lyria-realtime-exp') as session,\n",
        "            asyncio.TaskGroup() as tg,\n",
        "        ):\n",
        "            tg.create_task(receive_audio(session))\n",
        "\n",
        "            await session.set_weighted_prompts(\n",
        "                prompts=[types.WeightedPrompt(text=prompt_text, weight=1.0)]\n",
        "            )\n",
        "            await session.set_music_generation_config(\n",
        "                config=types.LiveMusicGenerationConfig(\n",
        "                    bpm=bpm,\n",
        "                    temperature=temperature,\n",
        "                    brightness=brightness,\n",
        "                    density=density,\n",
        "                    guidance=guidance\n",
        "                )\n",
        "            )\n",
        "            print(\"▶️ 시작: 음악 생성 요청\")\n",
        "            await session.play()\n",
        "            await asyncio.sleep(8)\n",
        "            await session.stop()\n",
        "\n",
        "    except Exception as e:\n",
        "        print(\"❌ 예외 발생:\", e)\n",
        "        return None\n",
        "\n",
        "    from scipy.io.wavfile import write\n",
        "    import numpy as np\n",
        "\n",
        "    raw_bytes = b\"\".join(audio_chunks)\n",
        "    waveform = np.frombuffer(raw_bytes, dtype=np.int16)\n",
        "\n",
        "    if np.all(waveform == 0):\n",
        "        print(\"⚠️ 수신된 오디오는 전부 무음입니다. 저장하지 않습니다.\")\n",
        "        return None\n",
        "\n",
        "    temp_path = \"/content/my_music.wav\"\n",
        "    write(temp_path, 24000, waveform)\n",
        "    print(\"✅ 오디오 저장 완료:\", temp_path)\n",
        "    return temp_path\n"
      ]
    },
    {
      "cell_type": "code",
      "source": [
        "def gradio_interface(api_key, prompt_text, bpm, temperature, brightness, density, guidance):\n",
        "    loop = asyncio.get_event_loop()\n",
        "    try:\n",
        "        audio_path = loop.run_until_complete(\n",
        "            generate_music(api_key, prompt_text, bpm, temperature)\n",
        "        )\n",
        "\n",
        "        if audio_path is None or not os.path.exists(audio_path):\n",
        "            return \"❌ 음악 생성 실패\"\n",
        "\n",
        "        file_size = os.path.getsize(audio_path)\n",
        "        if file_size < 10000:\n",
        "            return \"⚠️ 생성된 오디오가 너무 짧거나 비어 있음\"\n",
        "\n",
        "        print(\"🎧 생성된 파일:\", audio_path, \"| 크기:\", file_size)\n",
        "        return audio_path\n",
        "\n",
        "    except Exception as e:\n",
        "        print(\"💥 예외 발생:\", str(e))\n",
        "        return f\"❌ 예외 발생: {str(e)}\""
      ],
      "metadata": {
        "id": "h9w3nFxWDMM7"
      },
      "execution_count": 39,
      "outputs": []
    },
    {
      "cell_type": "code",
      "source": [
        "iface = gr.Interface(\n",
        "    fn=gradio_interface,\n",
        "    inputs=[\n",
        "        gr.Textbox(label=\"🔐 API Key\", placeholder=\"여기에 Google API 키를 입력하세요\", type=\"password\"),\n",
        "        gr.Textbox(label=\"🎵 Prompt\", value=\"minimal techno\"),\n",
        "        gr.Slider(60, 180, step=1, label=\"🎚️ BPM (비트)\", value=90),\n",
        "        gr.Slider(0.1, 3.0, step=0.1, label=\"🌡️ Temperature (창의성)\", value=1.0),\n",
        "        gr.Slider(0.0, 1.0, step=0.1, label=\"✨ Brightness (밝기)\", value=0.5),\n",
        "        gr.Slider(0.0, 1.0, step=0.1, label=\"🎼 Density (밀도)\", value=0.7),\n",
        "        gr.Slider(0.0, 6.0, step=0.1, label=\"📏 Guidance (프롬프트 준수도)\", value=4.0),\n",
        "    ],\n",
        "    outputs=gr.Audio(type=\"filepath\", label=\"🎧 Generated Music\"),\n",
        "    title=\"🎶 Lyria: 나만의 음악 생성기\",\n",
        "    description=(\n",
        "        \"**📝 생성 파라미터 설명:**\\n\"\n",
        "        \"- 🎚️ **BPM (Beats Per Minute)**: 음악의 속도. 높을수록 빠른 곡, 낮을수록 느린 곡.\\n\"\n",
        "        \"- 🌡️ **Temperature**: 창의성 정도. 낮으면 반복적이고 안정적, 높으면 다양하고 창의적인 결과.\\n\"\n",
        "        \"- ✨ **Brightness**: 밝기. 1.0에 가까울수록 경쾌하고 높은 음, 0.0이면 어둡고 낮은 음 위주.\\n\"\n",
        "        \"- 🎼 **Density**: 음의 밀도. 높으면 더 풍부하고 복잡한 곡, 낮으면 단순한 느낌.\\n\"\n",
        "        \"- 📏 **Guidance**: 프롬프트를 얼마나 정확히 따를지 제어. 높을수록 프롬프트에 충실하지만 딱딱할 수 있음.\\n\"\n",
        "        \"\\n**모든 파라미터는 Lyria 모델에게 생성 음악의 스타일을 실시간으로 조정하는 지시 역할을 합니다.**\"\n",
        "    ),\n",
        ")\n",
        "\n",
        "iface.launch(debug=True, share=True)"
      ],
      "metadata": {
        "colab": {
          "base_uri": "https://localhost:8080/",
          "height": 767
        },
        "id": "co5z7OqeGeWm",
        "outputId": "4cb7e224-38cf-4401-c8bc-c260d323eea8"
      },
      "execution_count": null,
      "outputs": [
        {
          "output_type": "stream",
          "name": "stderr",
          "text": [
            "ERROR:asyncio:Task was destroyed but it is pending!\n",
            "task: <Task pending name='Task-161' coro=<AsyncClient.aclose() running at /usr/local/lib/python3.11/dist-packages/httpx/_client.py:1978>>\n",
            "/usr/lib/python3.11/asyncio/base_events.py:679: RuntimeWarning: coroutine 'AsyncClient.aclose' was never awaited\n",
            "  self._ready.clear()\n",
            "RuntimeWarning: Enable tracemalloc to get the object allocation traceback\n",
            "ERROR:asyncio:Task was destroyed but it is pending!\n",
            "task: <Task pending name='Task-193' coro=<AsyncClient.aclose() running at /usr/local/lib/python3.11/dist-packages/httpx/_client.py:1978>>\n",
            "ERROR:asyncio:Task was destroyed but it is pending!\n",
            "task: <Task pending name='Task-225' coro=<AsyncClient.aclose() running at /usr/local/lib/python3.11/dist-packages/httpx/_client.py:1978>>\n"
          ]
        },
        {
          "output_type": "stream",
          "name": "stdout",
          "text": [
            "Colab notebook detected. This cell will run indefinitely so that you can see errors and logs. To turn off, set debug=False in launch().\n",
            "* Running on public URL: https://6341bca3a748017911.gradio.live\n",
            "\n",
            "This share link expires in 1 week. For free permanent hosting and GPU upgrades, run `gradio deploy` from the terminal in the working directory to deploy to Hugging Face Spaces (https://huggingface.co/spaces)\n"
          ]
        },
        {
          "output_type": "display_data",
          "data": {
            "text/plain": [
              "<IPython.core.display.HTML object>"
            ],
            "text/html": [
              "<div><iframe src=\"https://6341bca3a748017911.gradio.live\" width=\"100%\" height=\"500\" allow=\"autoplay; camera; microphone; clipboard-read; clipboard-write;\" frameborder=\"0\" allowfullscreen></iframe></div>"
            ]
          },
          "metadata": {}
        }
      ]
    }
  ]
}
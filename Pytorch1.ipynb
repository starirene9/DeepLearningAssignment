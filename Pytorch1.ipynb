{
  "nbformat": 4,
  "nbformat_minor": 0,
  "metadata": {
    "colab": {
      "provenance": [],
      "authorship_tag": "ABX9TyMJb2kSVeiJ7N8ue1UG+DzL",
      "include_colab_link": true
    },
    "kernelspec": {
      "name": "python3",
      "display_name": "Python 3"
    },
    "language_info": {
      "name": "python"
    }
  },
  "cells": [
    {
      "cell_type": "markdown",
      "metadata": {
        "id": "view-in-github",
        "colab_type": "text"
      },
      "source": [
        "<a href=\"https://colab.research.google.com/github/starirene9/DeepLearningAssignment/blob/main/Pytorch1.ipynb\" target=\"_parent\"><img src=\"https://colab.research.google.com/assets/colab-badge.svg\" alt=\"Open In Colab\"/></a>"
      ]
    },
    {
      "cell_type": "code",
      "execution_count": null,
      "metadata": {
        "id": "VINDnS9OedU6"
      },
      "outputs": [],
      "source": [
        "import torch\n",
        "import numpy as np"
      ]
    },
    {
      "cell_type": "code",
      "source": [
        "LR = 0.01\n",
        "EPOCH = 1500\n",
        "X_SIZE = 2 # 입력 데이터의 특성(feature) 수 = 1"
      ],
      "metadata": {
        "id": "oWKmAgYagKA_"
      },
      "execution_count": null,
      "outputs": []
    },
    {
      "cell_type": "markdown",
      "source": [
        "데이터 샘플 수 rows & 특징(feature) 수 columns => X_SIZE = 2 즉 입력 특징이 2개라는 의미임"
      ],
      "metadata": {
        "id": "lFH1W8o81RQ5"
      }
    },
    {
      "cell_type": "code",
      "source": [
        "X = torch.Tensor([[2, 0], [4, 4], [6, 2], [8, 3]]) # shape: (4, 1)\n",
        "y = torch.Tensor([[81],[93],[91],[97]])  # shape: (4, 1)"
      ],
      "metadata": {
        "id": "oeJSUW4ogbjQ"
      },
      "execution_count": null,
      "outputs": []
    },
    {
      "cell_type": "code",
      "source": [
        "model = torch.nn.Linear(X_SIZE, 1, bias=True) #선형 회귀 모델 생성 (입력 크기 1, 출력 크기 1, bias 사용)\n",
        "loss_function = torch.nn.MSELoss() # 손실 함수로 평균 제곱 오차(MSE)를 사용\n",
        "optimizer = torch.optim.SGD(model.parameters(), lr=LR) #Stochastic Gradient"
      ],
      "metadata": {
        "id": "anl8zlQCgpKU"
      },
      "execution_count": null,
      "outputs": []
    },
    {
      "cell_type": "code",
      "source": [
        "for i in range(EPOCH): # Epoch : 반복횟수\n",
        "    optimizer.zero_grad() ## 이전 반복에서 계산된 gradient 미분값 0으로 초기화 중요!\n",
        "    logit = model(X) # 예측값 : 아직 활성화 함수(예: sigmoid, softmax)를 거치기 전의 값\n",
        "    loss = loss_function(logit, y) # 예측값과 실제값 사이의 손실(loss) 계산\n",
        "\n",
        "    loss.backward() ## 손실 함수를 기준으로 모델의 파라미터에 대한 gradient 계산 (backward pass)\n",
        "    optimizer.step() ## 계산된 gradient를 이용하여 모델 파라미터 업데이트\n",
        "\n",
        "    if i % 100 == 0:\n",
        "         print(f'{i+1} epoch: {loss.item():.4f}')\n",
        "\n",
        "# print(\"\\n학습된 모델 파라미터:\")\n",
        "# print(f\"Weight (가중치): {model.weight.item():.4f}\")\n",
        "# print(f\"Bias (편향): {model.bias.item():.4f}\")"
      ],
      "metadata": {
        "colab": {
          "base_uri": "https://localhost:8080/"
        },
        "id": "8zHSmFjug4A2",
        "outputId": "0193e7a5-a93f-4a3c-88ae-ac251425f686"
      },
      "execution_count": null,
      "outputs": [
        {
          "output_type": "stream",
          "name": "stdout",
          "text": [
            "1 epoch: 8461.2070\n",
            "101 epoch: 498.5511\n",
            "201 epoch: 264.0961\n",
            "301 epoch: 139.9161\n",
            "401 epoch: 74.1423\n",
            "501 epoch: 39.3042\n",
            "601 epoch: 20.8516\n",
            "701 epoch: 11.0780\n",
            "801 epoch: 5.9013\n",
            "901 epoch: 3.1593\n",
            "1001 epoch: 1.7070\n",
            "1101 epoch: 0.9377\n",
            "1201 epoch: 0.5303\n",
            "1301 epoch: 0.3145\n",
            "1401 epoch: 0.2002\n"
          ]
        }
      ]
    },
    {
      "cell_type": "code",
      "source": [
        "for p in model.parameters(): # y = 2.3x + 79 와 유사한 값으로 나옴\n",
        "  print(p)"
      ],
      "metadata": {
        "colab": {
          "base_uri": "https://localhost:8080/"
        },
        "id": "QIy6dCdAlOGC",
        "outputId": "e38b75c1-c846-44d0-cc85-06afbcf5846e"
      },
      "execution_count": null,
      "outputs": [
        {
          "output_type": "stream",
          "name": "stdout",
          "text": [
            "Parameter containing:\n",
            "tensor([[1.5944, 2.3183]], requires_grad=True)\n",
            "Parameter containing:\n",
            "tensor([77.2092], requires_grad=True)\n"
          ]
        }
      ]
    },
    {
      "cell_type": "markdown",
      "source": [
        "torch.nn.Sequential(A,B,C) # 2개의 하나의 모델로 만드는 법"
      ],
      "metadata": {
        "id": "wS2XfLsfm70F"
      }
    }
  ]
}